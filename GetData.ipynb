{
  "nbformat": 4,
  "nbformat_minor": 0,
  "metadata": {
    "colab": {
      "name": "Cópia de GetData.ipynb",
      "provenance": [],
      "collapsed_sections": []
    },
    "kernelspec": {
      "name": "python3",
      "display_name": "Python 3"
    },
    "language_info": {
      "name": "python"
    }
  },
  "cells": [
    {
      "cell_type": "markdown",
      "source": [
        "# Getting data into Python"
      ],
      "metadata": {
        "id": "vDPPxz0-hFad"
      }
    },
    {
      "cell_type": "markdown",
      "source": [
        "The data in this example will come from this location:\n",
        "\n",
        "* [https://en.wikipedia.org/wiki/List_of_wars_by_death_toll](https://en.wikipedia.org/wiki/List_of_wars_by_death_toll)"
      ],
      "metadata": {
        "id": "Gp9Qyu8lhAC9"
      }
    },
    {
      "cell_type": "code",
      "source": [
        "# here we save the comple link (in quotations):\n",
        "link='https://en.wikipedia.org/wiki/List_of_wars_by_death_toll'"
      ],
      "metadata": {
        "id": "otvmQuXthm9N"
      },
      "execution_count": null,
      "outputs": []
    },
    {
      "cell_type": "markdown",
      "source": [
        "The operation to get dat from the web requires more than the basic Python functions. Then, you need to install some extra packages:\n",
        "* pandas\n",
        "* html5lib\n",
        "* beautifulsoup4\n",
        "* lxml\n",
        "* requests. "
      ],
      "metadata": {
        "id": "ncdqePWThxwF"
      }
    },
    {
      "cell_type": "code",
      "source": [
        "# this code can help you know if you already have the packages listed above:\n",
        "\n",
        "!pip show pandas html5lib beautifulsoup4 lxml requests "
      ],
      "metadata": {
        "id": "bm1Ly4Tfj9lL"
      },
      "execution_count": null,
      "outputs": []
    },
    {
      "cell_type": "code",
      "source": [
        "!python --version"
      ],
      "metadata": {
        "id": "RI3VZnrpDlJ3"
      },
      "execution_count": null,
      "outputs": []
    },
    {
      "cell_type": "markdown",
      "source": [
        "Any package not available can be installed using **pip install _package-name_** . Let's bring the table easily with pandas' *read_html*:"
      ],
      "metadata": {
        "id": "LbBO6_yBmT1U"
      }
    },
    {
      "cell_type": "code",
      "source": [
        "import pandas as pd\n",
        "\n",
        "\n",
        "wars=pd.read_html(io=link, # reading the info from link\n",
        "                  flavor='bs4', # the parsing engine # beauty soufl\n",
        "                  attrs = {'class': 'sortable wikitable'})# how did I know this?"
      ],
      "metadata": {
        "id": "D1KA_ElJlykr"
      },
      "execution_count": null,
      "outputs": []
    },
    {
      "cell_type": "markdown",
      "source": [
        "The object **wars** is not a table, but a list (of sortable wiki tables):"
      ],
      "metadata": {
        "id": "QZgL_g_NnzXy"
      }
    },
    {
      "cell_type": "code",
      "source": [
        "# type of object\n",
        "type(wars)"
      ],
      "metadata": {
        "id": "w8C0hLOpnwkR"
      },
      "execution_count": null,
      "outputs": []
    },
    {
      "cell_type": "markdown",
      "source": [
        "...and we have this many:"
      ],
      "metadata": {
        "id": "j2bsR5gfoBcu"
      }
    },
    {
      "cell_type": "code",
      "source": [
        "len(wars)"
      ],
      "metadata": {
        "id": "PbiDbqr2n-eG"
      },
      "execution_count": null,
      "outputs": []
    },
    {
      "cell_type": "markdown",
      "source": [
        "You can access each element of the list using an index inside '[ ]'. This is what you have in the first element:"
      ],
      "metadata": {
        "id": "QcopPZ0HW8Oi"
      }
    },
    {
      "cell_type": "code",
      "source": [
        "type(wars[0]) #the first starts in zero in Python."
      ],
      "metadata": {
        "id": "33r3HIGlXMGn"
      },
      "execution_count": null,
      "outputs": []
    },
    {
      "cell_type": "markdown",
      "source": [
        "The first element of _wars_ is a pandas dataframe. Let's check some info:"
      ],
      "metadata": {
        "id": "Mh_yDazUXdbt"
      }
    },
    {
      "cell_type": "code",
      "source": [
        "wars[0].shape # amount of rows and columns"
      ],
      "metadata": {
        "id": "dXcslXd_YcGj"
      },
      "execution_count": null,
      "outputs": []
    },
    {
      "cell_type": "code",
      "source": [
        "wars[0].columns # column names"
      ],
      "metadata": {
        "id": "7jBJupvxYkGF"
      },
      "execution_count": null,
      "outputs": []
    },
    {
      "cell_type": "code",
      "source": [
        "wars[0].info() # column data types"
      ],
      "metadata": {
        "id": "ItgvCRPvYn9r"
      },
      "execution_count": null,
      "outputs": []
    },
    {
      "cell_type": "code",
      "source": [
        "wars[0].head() # or tail()"
      ],
      "metadata": {
        "id": "zWZhUhFnYtf9"
      },
      "execution_count": null,
      "outputs": []
    },
    {
      "cell_type": "markdown",
      "source": [
        "Request the following information:\n",
        "* The amount of rows in the other data frames in the object _wars_.\n",
        "* Confirm all those data frames share the same column names."
      ],
      "metadata": {
        "id": "j0I2PCpBoc6G"
      }
    },
    {
      "cell_type": "markdown",
      "source": [
        "The same web page from Wikipedia has more information on wars that is more difficult to scrap. I leave the example [HERE](https://colab.research.google.com/drive/1fMva9mhuUiLOlxQ6w7irzz2QVeKTzOXf?usp=sharing) in case you want to know more."
      ],
      "metadata": {
        "id": "WHhYHCPEo_CQ"
      }
    },
    {
      "cell_type": "code",
      "source": [
        ""
      ],
      "metadata": {
        "id": "Ku6s53l3o1WX"
      },
      "execution_count": null,
      "outputs": []
    }
  ]
}