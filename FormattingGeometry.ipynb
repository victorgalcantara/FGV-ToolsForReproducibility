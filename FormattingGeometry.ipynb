{
 "cells": [
  {
   "cell_type": "markdown",
   "id": "402943b1",
   "metadata": {},
   "source": [
    "# Formatting Data (geometry)\n",
    "\n",
    "\n",
    "In general, you need to format geometry when you get coordinates."
   ]
  },
  {
   "cell_type": "code",
   "execution_count": null,
   "id": "75f3c948",
   "metadata": {},
   "outputs": [],
   "source": [
    "import pandas as pd\n",
    "import os\n",
    "\n",
    "where=os.path.join('DataFiles','calls911.pkl')\n",
    "calls911=pd.read_pickle(where)\n",
    "calls911.head()"
   ]
  },
  {
   "cell_type": "markdown",
   "id": "33d1b686",
   "metadata": {},
   "source": [
    "You know the call identify the location of the incident. Then you are interested in representing that coordinates in a map. You have this map:"
   ]
  },
  {
   "cell_type": "code",
   "execution_count": null,
   "id": "949f3baf",
   "metadata": {},
   "outputs": [],
   "source": [
    "import geopandas as gpd\n",
    "\n",
    "theMapFile=os.path.join(\"DataFiles\",\"Census_Tracts_2010.geojson\")\n",
    "seattleMap=gpd.read_file(theMapFile)\n",
    "seattleMap.plot()"
   ]
  },
  {
   "cell_type": "markdown",
   "id": "86c2a182",
   "metadata": {},
   "source": [
    "The map came from a geojson file. It is a common format these days. However, the more familiar format has always been the shapefile (**.shp**)\n",
    "\n",
    "All maps are a **projection** of our 3D world. So, maps, 2D objects, should let us know that:"
   ]
  },
  {
   "cell_type": "code",
   "execution_count": null,
   "id": "81db838e",
   "metadata": {},
   "outputs": [],
   "source": [
    "# projection info is not here!!\n",
    "seattleMap.info()"
   ]
  },
  {
   "cell_type": "code",
   "execution_count": null,
   "id": "02bc26c4",
   "metadata": {},
   "outputs": [],
   "source": [
    "# it is here\n",
    "seattleMap.crs"
   ]
  },
  {
   "cell_type": "markdown",
   "id": "adcb0a2a",
   "metadata": {},
   "source": [
    "The **report_location** column came from the original data in the _API_; it has the coordinates of the event, and it is very useful. I can recover that in Python as it is a dictionary."
   ]
  },
  {
   "cell_type": "code",
   "execution_count": null,
   "id": "059281f8",
   "metadata": {
    "scrolled": false
   },
   "outputs": [],
   "source": [
    "[x['coordinates'] for x in calls911.report_location[1:10]]"
   ]
  },
  {
   "cell_type": "markdown",
   "id": "df1e65a1",
   "metadata": {},
   "source": [
    "Fortunately, we have already that information in the columns _longitude_ and _latitude_; so we can drop it:"
   ]
  },
  {
   "cell_type": "code",
   "execution_count": null,
   "id": "8115195a",
   "metadata": {},
   "outputs": [],
   "source": [
    "calls911.drop(columns=[\"report_location\"],inplace=True)"
   ]
  },
  {
   "cell_type": "markdown",
   "id": "0f19a1f2",
   "metadata": {},
   "source": [
    "However, _longitude_ and _latitude_ are not numeric, then we need to format:"
   ]
  },
  {
   "cell_type": "code",
   "execution_count": null,
   "id": "25b56d98",
   "metadata": {},
   "outputs": [],
   "source": [
    "calls911[['longitude','latitude']]=calls911[['longitude','latitude']].apply(lambda x:pd.to_numeric(x))"
   ]
  },
  {
   "cell_type": "markdown",
   "id": "b29d73c0",
   "metadata": {},
   "source": [
    "Let's pay plot the coordinates:"
   ]
  },
  {
   "cell_type": "code",
   "execution_count": null,
   "id": "892223f1",
   "metadata": {},
   "outputs": [],
   "source": [
    "calls911.plot.scatter(x = 'longitude', y = 'latitude')"
   ]
  },
  {
   "cell_type": "markdown",
   "id": "d01d0247",
   "metadata": {},
   "source": [
    "Now, let's plot the coordinates on top of the map:"
   ]
  },
  {
   "cell_type": "code",
   "execution_count": null,
   "id": "a39e3f17",
   "metadata": {},
   "outputs": [],
   "source": [
    "import matplotlib.pyplot as plt\n",
    "ax = seattleMap.plot(color='white',\n",
    "                  edgecolor='black')\n",
    "\n",
    "calls911[['longitude','latitude']].plot(ax=ax, color='red',markersize=0.5)\n",
    "\n",
    "plt.show()"
   ]
  },
  {
   "cell_type": "markdown",
   "id": "9be9bab0",
   "metadata": {},
   "source": [
    "It fails as it is not a spatial data frame.\n",
    "\n",
    "The next step is to create a spatial dataframe for the 911 data. Let's use geopandas:"
   ]
  },
  {
   "cell_type": "code",
   "execution_count": null,
   "id": "52829e1f",
   "metadata": {},
   "outputs": [],
   "source": [
    "import geopandas as gpd\n",
    "\n",
    "pointsAsGeometry=gpd.points_from_xy(calls911.longitude,\n",
    "                                    calls911.latitude,crs=\"EPSG:4326\")\n",
    "\n",
    "calls911_geo = gpd.GeoDataFrame(calls911,\n",
    "                                geometry=pointsAsGeometry)\n",
    "\n",
    "# check:\n",
    "\n",
    "calls911_geo.crs"
   ]
  },
  {
   "cell_type": "markdown",
   "id": "d6bcec7e",
   "metadata": {},
   "source": [
    "Let's redo the previous _failed_ plot:"
   ]
  },
  {
   "cell_type": "code",
   "execution_count": null,
   "id": "7202e215",
   "metadata": {},
   "outputs": [],
   "source": [
    "ax = seattleMap.plot(color='white',\n",
    "                  edgecolor='black')\n",
    "\n",
    "calls911_geo.plot(ax=ax, color='red',\n",
    "                  markersize=0.5)\n",
    "plt.show()"
   ]
  },
  {
   "cell_type": "markdown",
   "id": "883b0a79",
   "metadata": {},
   "source": [
    "Notice there is an event registered which is not in Seattle."
   ]
  },
  {
   "cell_type": "code",
   "execution_count": null,
   "id": "4eb02f1a",
   "metadata": {},
   "outputs": [],
   "source": [
    "calls911_geo[calls911_geo.longitude==calls911_geo.longitude.max()]"
   ]
  },
  {
   "cell_type": "markdown",
   "id": "77d1a43b",
   "metadata": {},
   "source": [
    "The map of Seattle has information of its limits: the **bounding box**. You can use that to filter the events:"
   ]
  },
  {
   "cell_type": "code",
   "execution_count": null,
   "id": "f23fe817",
   "metadata": {},
   "outputs": [],
   "source": [
    "calls911_geoclipped = gpd.clip(gdf=calls911_geo,\n",
    "                               mask=seattleMap)\n",
    "\n",
    "###\n",
    "\n",
    "ax = seattleMap.plot(color='white',\n",
    "                  edgecolor='black')\n",
    "\n",
    "calls911_geoclipped.plot(ax=ax, color='red',\n",
    "                  markersize=0.5)\n",
    "plt.show()"
   ]
  },
  {
   "cell_type": "markdown",
   "id": "a7dc92e1",
   "metadata": {},
   "source": [
    "We could save this file as an spatial data frame for further use in another program:"
   ]
  },
  {
   "cell_type": "code",
   "execution_count": null,
   "id": "5fa2aaab",
   "metadata": {},
   "outputs": [],
   "source": [
    "# the datetime format can not be saved so we drop it.\n",
    "# other choice could be to save it as a string.\n",
    "\n",
    "whereGeo=os.path.join(\"DataFiles\",\"calls911_geo.geojson\")\n",
    "\n",
    "calls911_geoclipped.drop(columns=[\"date\"]).to_file(whereGeo,\n",
    "                                            driver='GeoJSON')"
   ]
  },
  {
   "cell_type": "code",
   "execution_count": null,
   "id": "3b06f0a1",
   "metadata": {},
   "outputs": [],
   "source": []
  }
 ],
 "metadata": {
  "kernelspec": {
   "display_name": "Python 3 (ipykernel)",
   "language": "python",
   "name": "python3"
  },
  "language_info": {
   "codemirror_mode": {
    "name": "ipython",
    "version": 3
   },
   "file_extension": ".py",
   "mimetype": "text/x-python",
   "name": "python",
   "nbconvert_exporter": "python",
   "pygments_lexer": "ipython3",
   "version": "3.9.13"
  }
 },
 "nbformat": 4,
 "nbformat_minor": 5
}
