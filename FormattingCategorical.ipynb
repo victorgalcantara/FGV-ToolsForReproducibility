{
 "cells": [
  {
   "cell_type": "markdown",
   "id": "9f156965",
   "metadata": {},
   "source": [
    "# Data Formatting (categorical)\n",
    "\n",
    "\n",
    "In this formatting tutorial we will see the categorical case.\n",
    "\n",
    "\n",
    "Let's get [some data](https://en.wikipedia.org/wiki/List_of_freedom_indices):"
   ]
  },
  {
   "cell_type": "code",
   "execution_count": 1,
   "id": "1923bc8b",
   "metadata": {},
   "outputs": [],
   "source": [
    "import pandas as pd\n",
    "\n",
    "link='https://en.wikipedia.org/wiki/List_of_freedom_indices'\n",
    "freeAll=pd.read_html(link,flavor='bs4',match='w',attrs={'class':\"wikitable\"})"
   ]
  },
  {
   "cell_type": "markdown",
   "id": "7b58c223",
   "metadata": {},
   "source": [
    "We need the second table:"
   ]
  },
  {
   "cell_type": "code",
   "execution_count": 2,
   "id": "d9b41db7",
   "metadata": {
    "scrolled": true
   },
   "outputs": [
    {
     "data": {
      "text/html": [
       "<div>\n",
       "<style scoped>\n",
       "    .dataframe tbody tr th:only-of-type {\n",
       "        vertical-align: middle;\n",
       "    }\n",
       "\n",
       "    .dataframe tbody tr th {\n",
       "        vertical-align: top;\n",
       "    }\n",
       "\n",
       "    .dataframe thead th {\n",
       "        text-align: right;\n",
       "    }\n",
       "</style>\n",
       "<table border=\"1\" class=\"dataframe\">\n",
       "  <thead>\n",
       "    <tr style=\"text-align: right;\">\n",
       "      <th></th>\n",
       "      <th>Country</th>\n",
       "      <th>Freedom in the World 2022[12]</th>\n",
       "      <th>2022 Index of Economic Freedom[13]</th>\n",
       "      <th>2022 Press Freedom Index[3]</th>\n",
       "      <th>2021 Democracy Index[15]</th>\n",
       "    </tr>\n",
       "  </thead>\n",
       "  <tbody>\n",
       "    <tr>\n",
       "      <th>0</th>\n",
       "      <td>Afghanistan</td>\n",
       "      <td>not free</td>\n",
       "      <td>NaN</td>\n",
       "      <td>very serious situation</td>\n",
       "      <td>authoritarian regime</td>\n",
       "    </tr>\n",
       "    <tr>\n",
       "      <th>1</th>\n",
       "      <td>Albania</td>\n",
       "      <td>partly free</td>\n",
       "      <td>moderately free</td>\n",
       "      <td>noticeable problems</td>\n",
       "      <td>flawed democracy</td>\n",
       "    </tr>\n",
       "    <tr>\n",
       "      <th>2</th>\n",
       "      <td>Algeria</td>\n",
       "      <td>not free</td>\n",
       "      <td>repressed</td>\n",
       "      <td>difficult situation</td>\n",
       "      <td>authoritarian regime</td>\n",
       "    </tr>\n",
       "    <tr>\n",
       "      <th>3</th>\n",
       "      <td>Andorra</td>\n",
       "      <td>free</td>\n",
       "      <td>NaN</td>\n",
       "      <td>noticeable problems</td>\n",
       "      <td>NaN</td>\n",
       "    </tr>\n",
       "    <tr>\n",
       "      <th>4</th>\n",
       "      <td>Angola</td>\n",
       "      <td>not free</td>\n",
       "      <td>mostly unfree</td>\n",
       "      <td>noticeable problems</td>\n",
       "      <td>authoritarian regime</td>\n",
       "    </tr>\n",
       "  </tbody>\n",
       "</table>\n",
       "</div>"
      ],
      "text/plain": [
       "       Country Freedom in the World 2022[12]  \\\n",
       "0  Afghanistan                      not free   \n",
       "1      Albania                   partly free   \n",
       "2      Algeria                      not free   \n",
       "3      Andorra                          free   \n",
       "4       Angola                      not free   \n",
       "\n",
       "  2022 Index of Economic Freedom[13] 2022 Press Freedom Index[3]  \\\n",
       "0                                NaN      very serious situation   \n",
       "1                    moderately free         noticeable problems   \n",
       "2                          repressed         difficult situation   \n",
       "3                                NaN         noticeable problems   \n",
       "4                      mostly unfree         noticeable problems   \n",
       "\n",
       "  2021 Democracy Index[15]  \n",
       "0     authoritarian regime  \n",
       "1         flawed democracy  \n",
       "2     authoritarian regime  \n",
       "3                      NaN  \n",
       "4     authoritarian regime  "
      ]
     },
     "execution_count": 2,
     "metadata": {},
     "output_type": "execute_result"
    }
   ],
   "source": [
    "freeAll[1].head()"
   ]
  },
  {
   "cell_type": "markdown",
   "id": "6442b690",
   "metadata": {},
   "source": [
    "Before checking the data, let's make sure the column names are also in good format that facilitates our work:"
   ]
  },
  {
   "cell_type": "code",
   "execution_count": 3,
   "id": "0f614a66",
   "metadata": {},
   "outputs": [
    {
     "data": {
      "text/plain": [
       "Index(['Country', 'Freedom in the World 2022[12]',\n",
       "       '2022 Index of Economic Freedom[13]', '2022 Press Freedom Index[3]',\n",
       "       '2021 Democracy Index[15]'],\n",
       "      dtype='object')"
      ]
     },
     "execution_count": 3,
     "metadata": {},
     "output_type": "execute_result"
    }
   ],
   "source": [
    "freeAll[1].columns"
   ]
  },
  {
   "cell_type": "markdown",
   "id": "a6f48526",
   "metadata": {},
   "source": [
    "This is a good alternative:"
   ]
  },
  {
   "cell_type": "code",
   "execution_count": 4,
   "id": "8baaa5dc",
   "metadata": {},
   "outputs": [
    {
     "data": {
      "text/plain": [
       "Index(['Country', 'FreedomintheWorld', 'IndexofEconomicFreedom',\n",
       "       'PressFreedomIndex', 'DemocracyIndex'],\n",
       "      dtype='object')"
      ]
     },
     "execution_count": 4,
     "metadata": {},
     "output_type": "execute_result"
    }
   ],
   "source": [
    "freeAll[1].columns.str.replace(\"\\d+|\\s|\\[|\\]\",\"\",regex=True)"
   ]
  },
  {
   "cell_type": "code",
   "execution_count": 5,
   "id": "83b2aa30",
   "metadata": {},
   "outputs": [],
   "source": [
    "#then\n",
    "newNames=freeAll[1].columns.str.replace(\"\\d+|\\s|\\[|\\]\",\"\",regex=True)\n",
    "freeAll[1].columns=newNames"
   ]
  },
  {
   "cell_type": "markdown",
   "id": "f35512e0",
   "metadata": {},
   "source": [
    "Let's explore:"
   ]
  },
  {
   "cell_type": "code",
   "execution_count": 6,
   "id": "e9c7a73d",
   "metadata": {},
   "outputs": [
    {
     "name": "stdout",
     "output_type": "stream",
     "text": [
      "<class 'pandas.core.frame.DataFrame'>\n",
      "RangeIndex: 197 entries, 0 to 196\n",
      "Data columns (total 5 columns):\n",
      " #   Column                  Non-Null Count  Dtype \n",
      "---  ------                  --------------  ----- \n",
      " 0   Country                 197 non-null    object\n",
      " 1   FreedomintheWorld       197 non-null    object\n",
      " 2   IndexofEconomicFreedom  177 non-null    object\n",
      " 3   PressFreedomIndex       184 non-null    object\n",
      " 4   DemocracyIndex          167 non-null    object\n",
      "dtypes: object(5)\n",
      "memory usage: 7.8+ KB\n"
     ]
    }
   ],
   "source": [
    "freeAll[1].info()"
   ]
  },
  {
   "cell_type": "markdown",
   "id": "e720cf7c",
   "metadata": {},
   "source": [
    "We see every column is just of the object type. Let's explore more:"
   ]
  },
  {
   "cell_type": "code",
   "execution_count": 7,
   "id": "6f85a9e2",
   "metadata": {},
   "outputs": [
    {
     "data": {
      "text/html": [
       "<div>\n",
       "<style scoped>\n",
       "    .dataframe tbody tr th:only-of-type {\n",
       "        vertical-align: middle;\n",
       "    }\n",
       "\n",
       "    .dataframe tbody tr th {\n",
       "        vertical-align: top;\n",
       "    }\n",
       "\n",
       "    .dataframe thead th {\n",
       "        text-align: right;\n",
       "    }\n",
       "</style>\n",
       "<table border=\"1\" class=\"dataframe\">\n",
       "  <thead>\n",
       "    <tr style=\"text-align: right;\">\n",
       "      <th></th>\n",
       "      <th>count</th>\n",
       "      <th>unique</th>\n",
       "      <th>top</th>\n",
       "      <th>freq</th>\n",
       "    </tr>\n",
       "  </thead>\n",
       "  <tbody>\n",
       "    <tr>\n",
       "      <th>Country</th>\n",
       "      <td>197</td>\n",
       "      <td>197</td>\n",
       "      <td>Afghanistan</td>\n",
       "      <td>1</td>\n",
       "    </tr>\n",
       "    <tr>\n",
       "      <th>FreedomintheWorld</th>\n",
       "      <td>197</td>\n",
       "      <td>3</td>\n",
       "      <td>free</td>\n",
       "      <td>83</td>\n",
       "    </tr>\n",
       "    <tr>\n",
       "      <th>IndexofEconomicFreedom</th>\n",
       "      <td>177</td>\n",
       "      <td>5</td>\n",
       "      <td>mostly unfree</td>\n",
       "      <td>57</td>\n",
       "    </tr>\n",
       "    <tr>\n",
       "      <th>PressFreedomIndex</th>\n",
       "      <td>184</td>\n",
       "      <td>5</td>\n",
       "      <td>noticeable problems</td>\n",
       "      <td>66</td>\n",
       "    </tr>\n",
       "    <tr>\n",
       "      <th>DemocracyIndex</th>\n",
       "      <td>167</td>\n",
       "      <td>4</td>\n",
       "      <td>authoritarian regime</td>\n",
       "      <td>59</td>\n",
       "    </tr>\n",
       "  </tbody>\n",
       "</table>\n",
       "</div>"
      ],
      "text/plain": [
       "                       count unique                   top freq\n",
       "Country                  197    197           Afghanistan    1\n",
       "FreedomintheWorld        197      3                  free   83\n",
       "IndexofEconomicFreedom   177      5         mostly unfree   57\n",
       "PressFreedomIndex        184      5   noticeable problems   66\n",
       "DemocracyIndex           167      4  authoritarian regime   59"
      ]
     },
     "execution_count": 7,
     "metadata": {},
     "output_type": "execute_result"
    }
   ],
   "source": [
    "freeAll[1].describe().T"
   ]
  },
  {
   "cell_type": "markdown",
   "id": "6dceca51",
   "metadata": {},
   "source": [
    "We know that each column has few values (categories). But the amount of values varies among them. Let's see what these values are:"
   ]
  },
  {
   "cell_type": "code",
   "execution_count": 8,
   "id": "cb60d516",
   "metadata": {},
   "outputs": [
    {
     "data": {
      "text/plain": [
       "array(['not free', 'partly free', 'free'], dtype=object)"
      ]
     },
     "execution_count": 8,
     "metadata": {},
     "output_type": "execute_result"
    }
   ],
   "source": [
    "pd.unique(freeAll[1].FreedomintheWorld) #any wrongly typed?"
   ]
  },
  {
   "cell_type": "code",
   "execution_count": 9,
   "id": "4b36d6ef",
   "metadata": {},
   "outputs": [
    {
     "data": {
      "text/plain": [
       "array([nan, 'moderately free', 'repressed', 'mostly unfree',\n",
       "       'mostly free', 'free'], dtype=object)"
      ]
     },
     "execution_count": 9,
     "metadata": {},
     "output_type": "execute_result"
    }
   ],
   "source": [
    "pd.unique(freeAll[1].IndexofEconomicFreedom)"
   ]
  },
  {
   "cell_type": "code",
   "execution_count": 10,
   "id": "fc005c60",
   "metadata": {},
   "outputs": [
    {
     "data": {
      "text/plain": [
       "array(['very serious situation', 'noticeable problems',\n",
       "       'difficult situation', 'satisfactory situation', nan,\n",
       "       'good situation'], dtype=object)"
      ]
     },
     "execution_count": 10,
     "metadata": {},
     "output_type": "execute_result"
    }
   ],
   "source": [
    "pd.unique(freeAll[1].PressFreedomIndex)"
   ]
  },
  {
   "cell_type": "code",
   "execution_count": 11,
   "id": "58b70ee5",
   "metadata": {},
   "outputs": [
    {
     "data": {
      "text/plain": [
       "array(['authoritarian regime', 'flawed democracy', nan, 'hybrid regime',\n",
       "       'full democracy'], dtype=object)"
      ]
     },
     "execution_count": 11,
     "metadata": {},
     "output_type": "execute_result"
    }
   ],
   "source": [
    "pd.unique(freeAll[1].DemocracyIndex)"
   ]
  },
  {
   "cell_type": "code",
   "execution_count": 12,
   "id": "e553e725",
   "metadata": {},
   "outputs": [],
   "source": [
    "# Guess what this will do before runing it:\n",
    "#[list(pd.unique(freeAll[1][x])) for x in freeAll[1].iloc[:,1:].columns]"
   ]
  },
  {
   "cell_type": "markdown",
   "id": "7edddb17",
   "metadata": {},
   "source": [
    "It is very important to verify that the strings that represent categories do not need _cleaning_ (i.e. 'free' instead of 'freee')"
   ]
  },
  {
   "cell_type": "markdown",
   "id": "f2fa0d53",
   "metadata": {},
   "source": [
    "Let me assign the dataframe to a new object:"
   ]
  },
  {
   "cell_type": "code",
   "execution_count": 13,
   "id": "ce6df9ca",
   "metadata": {},
   "outputs": [],
   "source": [
    "allFree=freeAll[1].copy()"
   ]
  },
  {
   "cell_type": "markdown",
   "id": "432a81b5",
   "metadata": {},
   "source": [
    "Now, let's turn the values into **ordinal** categories. Remember that the worst, best and middle values should be comparable:"
   ]
  },
  {
   "cell_type": "code",
   "execution_count": 14,
   "id": "0ea93452",
   "metadata": {},
   "outputs": [],
   "source": [
    "mapper1 = {'free':5 , 'partly free': 3, 'not free': 1}\n",
    "allFree.FreedomintheWorld.replace(mapper1,inplace=True)\n",
    "\n",
    "mapper2 = {'moderately free':3, 'repressed':1, 'mostly unfree':2,\n",
    "       'mostly free':4, 'free':5}\n",
    "allFree.IndexofEconomicFreedom.replace(mapper2,inplace=True)\n",
    "\n",
    "\n",
    "mapper3 = {'very serious situation':1, 'noticeable problems':3,\n",
    "       'difficult situation':2, 'satisfactory situation':4,\n",
    "       'good situation':5}\n",
    "allFree.PressFreedomIndex.replace(mapper3,inplace=True)\n",
    "\n",
    "mapper4 = {'authoritarian regime':1, 'flawed democracy':3,'hybrid regime':2,\n",
    "       'full democracy':5}\n",
    "allFree.DemocracyIndex.replace(mapper4,inplace=True)\n"
   ]
  },
  {
   "cell_type": "code",
   "execution_count": 15,
   "id": "742de9d3",
   "metadata": {},
   "outputs": [
    {
     "data": {
      "text/html": [
       "<div>\n",
       "<style scoped>\n",
       "    .dataframe tbody tr th:only-of-type {\n",
       "        vertical-align: middle;\n",
       "    }\n",
       "\n",
       "    .dataframe tbody tr th {\n",
       "        vertical-align: top;\n",
       "    }\n",
       "\n",
       "    .dataframe thead th {\n",
       "        text-align: right;\n",
       "    }\n",
       "</style>\n",
       "<table border=\"1\" class=\"dataframe\">\n",
       "  <thead>\n",
       "    <tr style=\"text-align: right;\">\n",
       "      <th></th>\n",
       "      <th>Country</th>\n",
       "      <th>FreedomintheWorld</th>\n",
       "      <th>IndexofEconomicFreedom</th>\n",
       "      <th>PressFreedomIndex</th>\n",
       "      <th>DemocracyIndex</th>\n",
       "    </tr>\n",
       "  </thead>\n",
       "  <tbody>\n",
       "    <tr>\n",
       "      <th>0</th>\n",
       "      <td>Afghanistan</td>\n",
       "      <td>1</td>\n",
       "      <td>NaN</td>\n",
       "      <td>1.0</td>\n",
       "      <td>1.0</td>\n",
       "    </tr>\n",
       "    <tr>\n",
       "      <th>1</th>\n",
       "      <td>Albania</td>\n",
       "      <td>3</td>\n",
       "      <td>3.0</td>\n",
       "      <td>3.0</td>\n",
       "      <td>3.0</td>\n",
       "    </tr>\n",
       "    <tr>\n",
       "      <th>2</th>\n",
       "      <td>Algeria</td>\n",
       "      <td>1</td>\n",
       "      <td>1.0</td>\n",
       "      <td>2.0</td>\n",
       "      <td>1.0</td>\n",
       "    </tr>\n",
       "    <tr>\n",
       "      <th>3</th>\n",
       "      <td>Andorra</td>\n",
       "      <td>5</td>\n",
       "      <td>NaN</td>\n",
       "      <td>3.0</td>\n",
       "      <td>NaN</td>\n",
       "    </tr>\n",
       "    <tr>\n",
       "      <th>4</th>\n",
       "      <td>Angola</td>\n",
       "      <td>1</td>\n",
       "      <td>2.0</td>\n",
       "      <td>3.0</td>\n",
       "      <td>1.0</td>\n",
       "    </tr>\n",
       "    <tr>\n",
       "      <th>...</th>\n",
       "      <td>...</td>\n",
       "      <td>...</td>\n",
       "      <td>...</td>\n",
       "      <td>...</td>\n",
       "      <td>...</td>\n",
       "    </tr>\n",
       "    <tr>\n",
       "      <th>192</th>\n",
       "      <td>Venezuela</td>\n",
       "      <td>1</td>\n",
       "      <td>1.0</td>\n",
       "      <td>1.0</td>\n",
       "      <td>1.0</td>\n",
       "    </tr>\n",
       "    <tr>\n",
       "      <th>193</th>\n",
       "      <td>Vietnam</td>\n",
       "      <td>1</td>\n",
       "      <td>3.0</td>\n",
       "      <td>1.0</td>\n",
       "      <td>1.0</td>\n",
       "    </tr>\n",
       "    <tr>\n",
       "      <th>194</th>\n",
       "      <td>Yemen</td>\n",
       "      <td>1</td>\n",
       "      <td>NaN</td>\n",
       "      <td>1.0</td>\n",
       "      <td>1.0</td>\n",
       "    </tr>\n",
       "    <tr>\n",
       "      <th>195</th>\n",
       "      <td>Zambia</td>\n",
       "      <td>3</td>\n",
       "      <td>1.0</td>\n",
       "      <td>3.0</td>\n",
       "      <td>2.0</td>\n",
       "    </tr>\n",
       "    <tr>\n",
       "      <th>196</th>\n",
       "      <td>Zimbabwe</td>\n",
       "      <td>1</td>\n",
       "      <td>1.0</td>\n",
       "      <td>2.0</td>\n",
       "      <td>1.0</td>\n",
       "    </tr>\n",
       "  </tbody>\n",
       "</table>\n",
       "<p>197 rows × 5 columns</p>\n",
       "</div>"
      ],
      "text/plain": [
       "         Country  FreedomintheWorld  IndexofEconomicFreedom  \\\n",
       "0    Afghanistan                  1                     NaN   \n",
       "1        Albania                  3                     3.0   \n",
       "2        Algeria                  1                     1.0   \n",
       "3        Andorra                  5                     NaN   \n",
       "4         Angola                  1                     2.0   \n",
       "..           ...                ...                     ...   \n",
       "192    Venezuela                  1                     1.0   \n",
       "193      Vietnam                  1                     3.0   \n",
       "194        Yemen                  1                     NaN   \n",
       "195       Zambia                  3                     1.0   \n",
       "196     Zimbabwe                  1                     1.0   \n",
       "\n",
       "     PressFreedomIndex  DemocracyIndex  \n",
       "0                  1.0             1.0  \n",
       "1                  3.0             3.0  \n",
       "2                  2.0             1.0  \n",
       "3                  3.0             NaN  \n",
       "4                  3.0             1.0  \n",
       "..                 ...             ...  \n",
       "192                1.0             1.0  \n",
       "193                1.0             1.0  \n",
       "194                1.0             1.0  \n",
       "195                3.0             2.0  \n",
       "196                2.0             1.0  \n",
       "\n",
       "[197 rows x 5 columns]"
      ]
     },
     "execution_count": 15,
     "metadata": {},
     "output_type": "execute_result"
    }
   ],
   "source": [
    "allFree"
   ]
  },
  {
   "cell_type": "markdown",
   "id": "0dc96aaa",
   "metadata": {},
   "source": [
    "Let's explore:"
   ]
  },
  {
   "cell_type": "code",
   "execution_count": 16,
   "id": "720b58c4",
   "metadata": {},
   "outputs": [
    {
     "name": "stdout",
     "output_type": "stream",
     "text": [
      "<class 'pandas.core.frame.DataFrame'>\n",
      "RangeIndex: 197 entries, 0 to 196\n",
      "Data columns (total 5 columns):\n",
      " #   Column                  Non-Null Count  Dtype  \n",
      "---  ------                  --------------  -----  \n",
      " 0   Country                 197 non-null    object \n",
      " 1   FreedomintheWorld       197 non-null    int64  \n",
      " 2   IndexofEconomicFreedom  177 non-null    float64\n",
      " 3   PressFreedomIndex       184 non-null    float64\n",
      " 4   DemocracyIndex          167 non-null    float64\n",
      "dtypes: float64(3), int64(1), object(1)\n",
      "memory usage: 7.8+ KB\n"
     ]
    }
   ],
   "source": [
    "#check types:\n",
    "allFree.info()"
   ]
  },
  {
   "cell_type": "code",
   "execution_count": 20,
   "id": "0a14a21e",
   "metadata": {},
   "outputs": [
    {
     "name": "stdout",
     "output_type": "stream",
     "text": [
      "<class 'pandas.core.frame.DataFrame'>\n",
      "RangeIndex: 197 entries, 0 to 196\n",
      "Data columns (total 4 columns):\n",
      " #   Column                  Non-Null Count  Dtype\n",
      "---  ------                  --------------  -----\n",
      " 0   FreedomintheWorld       197 non-null    Int32\n",
      " 1   IndexofEconomicFreedom  177 non-null    Int32\n",
      " 2   PressFreedomIndex       184 non-null    Int32\n",
      " 3   DemocracyIndex          167 non-null    Int32\n",
      "dtypes: Int32(4)\n",
      "memory usage: 4.0 KB\n"
     ]
    }
   ],
   "source": [
    "# what about\n",
    "\n",
    "# finally\n",
    "\n",
    "allFree.iloc[:,1:].apply(lambda x: x.astype('Int32')).info()"
   ]
  },
  {
   "cell_type": "code",
   "execution_count": 24,
   "id": "220174f3",
   "metadata": {},
   "outputs": [],
   "source": [
    "# this will fail:\n",
    "#allFree.iloc[:,1:].apply(lambda x: x.astype('int32')).info()"
   ]
  },
  {
   "cell_type": "code",
   "execution_count": 31,
   "id": "61e892c9",
   "metadata": {},
   "outputs": [],
   "source": [
    "for col in allFree.iloc[:,1:].columns:\n",
    "    try:\n",
    "        allFree[col].astype('int32')\n",
    "    except:\n",
    "        print(col)\n",
    "        try: \n",
    "            for cell in allFree[col]:\n",
    "                int(cell)\n",
    "        except:\n",
    "            print(cell)\n",
    "                "
   ]
  },
  {
   "cell_type": "code",
   "execution_count": 32,
   "id": "4828ffc8",
   "metadata": {},
   "outputs": [
    {
     "data": {
      "text/html": [
       "<div>\n",
       "<style scoped>\n",
       "    .dataframe tbody tr th:only-of-type {\n",
       "        vertical-align: middle;\n",
       "    }\n",
       "\n",
       "    .dataframe tbody tr th {\n",
       "        vertical-align: top;\n",
       "    }\n",
       "\n",
       "    .dataframe thead th {\n",
       "        text-align: right;\n",
       "    }\n",
       "</style>\n",
       "<table border=\"1\" class=\"dataframe\">\n",
       "  <thead>\n",
       "    <tr style=\"text-align: right;\">\n",
       "      <th></th>\n",
       "      <th>Country</th>\n",
       "      <th>FreedomintheWorld</th>\n",
       "      <th>IndexofEconomicFreedom</th>\n",
       "      <th>PressFreedomIndex</th>\n",
       "      <th>DemocracyIndex</th>\n",
       "    </tr>\n",
       "  </thead>\n",
       "  <tbody>\n",
       "    <tr>\n",
       "      <th>0</th>\n",
       "      <td>Afghanistan</td>\n",
       "      <td>1</td>\n",
       "      <td>NaN</td>\n",
       "      <td>1.0</td>\n",
       "      <td>1.0</td>\n",
       "    </tr>\n",
       "    <tr>\n",
       "      <th>1</th>\n",
       "      <td>Albania</td>\n",
       "      <td>3</td>\n",
       "      <td>3.0</td>\n",
       "      <td>3.0</td>\n",
       "      <td>3.0</td>\n",
       "    </tr>\n",
       "    <tr>\n",
       "      <th>2</th>\n",
       "      <td>Algeria</td>\n",
       "      <td>1</td>\n",
       "      <td>1.0</td>\n",
       "      <td>2.0</td>\n",
       "      <td>1.0</td>\n",
       "    </tr>\n",
       "    <tr>\n",
       "      <th>3</th>\n",
       "      <td>Andorra</td>\n",
       "      <td>5</td>\n",
       "      <td>NaN</td>\n",
       "      <td>3.0</td>\n",
       "      <td>NaN</td>\n",
       "    </tr>\n",
       "    <tr>\n",
       "      <th>4</th>\n",
       "      <td>Angola</td>\n",
       "      <td>1</td>\n",
       "      <td>2.0</td>\n",
       "      <td>3.0</td>\n",
       "      <td>1.0</td>\n",
       "    </tr>\n",
       "  </tbody>\n",
       "</table>\n",
       "</div>"
      ],
      "text/plain": [
       "       Country  FreedomintheWorld  IndexofEconomicFreedom  PressFreedomIndex  \\\n",
       "0  Afghanistan                  1                     NaN                1.0   \n",
       "1      Albania                  3                     3.0                3.0   \n",
       "2      Algeria                  1                     1.0                2.0   \n",
       "3      Andorra                  5                     NaN                3.0   \n",
       "4       Angola                  1                     2.0                3.0   \n",
       "\n",
       "   DemocracyIndex  \n",
       "0             1.0  \n",
       "1             3.0  \n",
       "2             1.0  \n",
       "3             NaN  \n",
       "4             1.0  "
      ]
     },
     "execution_count": 32,
     "metadata": {},
     "output_type": "execute_result"
    }
   ],
   "source": [
    "allFree.head()"
   ]
  },
  {
   "cell_type": "markdown",
   "id": "89342f19",
   "metadata": {},
   "source": [
    "However, these are not yet ordinal. Let's do it:"
   ]
  },
  {
   "cell_type": "code",
   "execution_count": 33,
   "id": "e21f045b",
   "metadata": {},
   "outputs": [
    {
     "name": "stdout",
     "output_type": "stream",
     "text": [
      "<class 'pandas.core.frame.DataFrame'>\n",
      "RangeIndex: 197 entries, 0 to 196\n",
      "Data columns (total 4 columns):\n",
      " #   Column                  Non-Null Count  Dtype   \n",
      "---  ------                  --------------  -----   \n",
      " 0   FreedomintheWorld       197 non-null    category\n",
      " 1   IndexofEconomicFreedom  177 non-null    category\n",
      " 2   PressFreedomIndex       184 non-null    category\n",
      " 3   DemocracyIndex          167 non-null    category\n",
      "dtypes: category(4)\n",
      "memory usage: 1.7 KB\n"
     ]
    }
   ],
   "source": [
    "from pandas.api.types import CategoricalDtype\n",
    "\n",
    "order = CategoricalDtype(categories=[1,2,3,4,5], ordered=True)\n",
    "allFree.iloc[:,1:].apply(lambda x:x.astype(order)).info()"
   ]
  },
  {
   "cell_type": "code",
   "execution_count": 34,
   "id": "71af28f8",
   "metadata": {},
   "outputs": [
    {
     "data": {
      "text/plain": [
       "Index(['FreedomintheWorld_or', 'IndexofEconomicFreedom_or',\n",
       "       'PressFreedomIndex_or', 'DemocracyIndex_or'],\n",
       "      dtype='object')"
      ]
     },
     "execution_count": 34,
     "metadata": {},
     "output_type": "execute_result"
    }
   ],
   "source": [
    "allFree.columns[1:]+'_or'"
   ]
  },
  {
   "cell_type": "code",
   "execution_count": 35,
   "id": "80aff81e",
   "metadata": {},
   "outputs": [],
   "source": [
    "newNames=allFree.columns[1:]+'_or'\n",
    "allFree[newNames]=allFree.iloc[:,1:].apply(lambda x:x.astype(order))"
   ]
  },
  {
   "cell_type": "code",
   "execution_count": 36,
   "id": "82046fb5",
   "metadata": {},
   "outputs": [
    {
     "name": "stdout",
     "output_type": "stream",
     "text": [
      "<class 'pandas.core.frame.DataFrame'>\n",
      "RangeIndex: 197 entries, 0 to 196\n",
      "Data columns (total 9 columns):\n",
      " #   Column                     Non-Null Count  Dtype   \n",
      "---  ------                     --------------  -----   \n",
      " 0   Country                    197 non-null    object  \n",
      " 1   FreedomintheWorld          197 non-null    int64   \n",
      " 2   IndexofEconomicFreedom     177 non-null    float64 \n",
      " 3   PressFreedomIndex          184 non-null    float64 \n",
      " 4   DemocracyIndex             167 non-null    float64 \n",
      " 5   FreedomintheWorld_or       197 non-null    category\n",
      " 6   IndexofEconomicFreedom_or  177 non-null    category\n",
      " 7   PressFreedomIndex_or       184 non-null    category\n",
      " 8   DemocracyIndex_or          167 non-null    category\n",
      "dtypes: category(4), float64(3), int64(1), object(1)\n",
      "memory usage: 9.4+ KB\n"
     ]
    }
   ],
   "source": [
    "allFree.info()"
   ]
  },
  {
   "cell_type": "code",
   "execution_count": 38,
   "id": "df5a5224",
   "metadata": {},
   "outputs": [
    {
     "data": {
      "text/plain": [
       "0      NaN\n",
       "1        3\n",
       "2        1\n",
       "3      NaN\n",
       "4        2\n",
       "      ... \n",
       "192      1\n",
       "193      3\n",
       "194    NaN\n",
       "195      1\n",
       "196      1\n",
       "Name: IndexofEconomicFreedom_or, Length: 197, dtype: category\n",
       "Categories (5, int64): [1 < 2 < 3 < 4 < 5]"
      ]
     },
     "execution_count": 38,
     "metadata": {},
     "output_type": "execute_result"
    }
   ],
   "source": [
    "allFree.IndexofEconomicFreedom_or"
   ]
  },
  {
   "cell_type": "markdown",
   "id": "7bddfe25",
   "metadata": {},
   "source": [
    "You may want to rename them:"
   ]
  },
  {
   "cell_type": "code",
   "execution_count": 39,
   "id": "98024763",
   "metadata": {},
   "outputs": [
    {
     "data": {
      "text/html": [
       "<div>\n",
       "<style scoped>\n",
       "    .dataframe tbody tr th:only-of-type {\n",
       "        vertical-align: middle;\n",
       "    }\n",
       "\n",
       "    .dataframe tbody tr th {\n",
       "        vertical-align: top;\n",
       "    }\n",
       "\n",
       "    .dataframe thead th {\n",
       "        text-align: right;\n",
       "    }\n",
       "</style>\n",
       "<table border=\"1\" class=\"dataframe\">\n",
       "  <thead>\n",
       "    <tr style=\"text-align: right;\">\n",
       "      <th></th>\n",
       "      <th>FreedomintheWorld_or</th>\n",
       "      <th>IndexofEconomicFreedom_or</th>\n",
       "      <th>PressFreedomIndex_or</th>\n",
       "      <th>DemocracyIndex_or</th>\n",
       "    </tr>\n",
       "  </thead>\n",
       "  <tbody>\n",
       "    <tr>\n",
       "      <th>0</th>\n",
       "      <td>veryLow</td>\n",
       "      <td>NaN</td>\n",
       "      <td>veryLow</td>\n",
       "      <td>veryLow</td>\n",
       "    </tr>\n",
       "    <tr>\n",
       "      <th>1</th>\n",
       "      <td>medium</td>\n",
       "      <td>medium</td>\n",
       "      <td>medium</td>\n",
       "      <td>medium</td>\n",
       "    </tr>\n",
       "    <tr>\n",
       "      <th>2</th>\n",
       "      <td>veryLow</td>\n",
       "      <td>veryLow</td>\n",
       "      <td>low</td>\n",
       "      <td>veryLow</td>\n",
       "    </tr>\n",
       "    <tr>\n",
       "      <th>3</th>\n",
       "      <td>veryGood</td>\n",
       "      <td>NaN</td>\n",
       "      <td>medium</td>\n",
       "      <td>NaN</td>\n",
       "    </tr>\n",
       "    <tr>\n",
       "      <th>4</th>\n",
       "      <td>veryLow</td>\n",
       "      <td>low</td>\n",
       "      <td>medium</td>\n",
       "      <td>veryLow</td>\n",
       "    </tr>\n",
       "    <tr>\n",
       "      <th>...</th>\n",
       "      <td>...</td>\n",
       "      <td>...</td>\n",
       "      <td>...</td>\n",
       "      <td>...</td>\n",
       "    </tr>\n",
       "    <tr>\n",
       "      <th>192</th>\n",
       "      <td>veryLow</td>\n",
       "      <td>veryLow</td>\n",
       "      <td>veryLow</td>\n",
       "      <td>veryLow</td>\n",
       "    </tr>\n",
       "    <tr>\n",
       "      <th>193</th>\n",
       "      <td>veryLow</td>\n",
       "      <td>medium</td>\n",
       "      <td>veryLow</td>\n",
       "      <td>veryLow</td>\n",
       "    </tr>\n",
       "    <tr>\n",
       "      <th>194</th>\n",
       "      <td>veryLow</td>\n",
       "      <td>NaN</td>\n",
       "      <td>veryLow</td>\n",
       "      <td>veryLow</td>\n",
       "    </tr>\n",
       "    <tr>\n",
       "      <th>195</th>\n",
       "      <td>medium</td>\n",
       "      <td>veryLow</td>\n",
       "      <td>medium</td>\n",
       "      <td>low</td>\n",
       "    </tr>\n",
       "    <tr>\n",
       "      <th>196</th>\n",
       "      <td>veryLow</td>\n",
       "      <td>veryLow</td>\n",
       "      <td>low</td>\n",
       "      <td>veryLow</td>\n",
       "    </tr>\n",
       "  </tbody>\n",
       "</table>\n",
       "<p>197 rows × 4 columns</p>\n",
       "</div>"
      ],
      "text/plain": [
       "    FreedomintheWorld_or IndexofEconomicFreedom_or PressFreedomIndex_or  \\\n",
       "0                veryLow                       NaN              veryLow   \n",
       "1                 medium                    medium               medium   \n",
       "2                veryLow                   veryLow                  low   \n",
       "3               veryGood                       NaN               medium   \n",
       "4                veryLow                       low               medium   \n",
       "..                   ...                       ...                  ...   \n",
       "192              veryLow                   veryLow              veryLow   \n",
       "193              veryLow                    medium              veryLow   \n",
       "194              veryLow                       NaN              veryLow   \n",
       "195               medium                   veryLow               medium   \n",
       "196              veryLow                   veryLow                  low   \n",
       "\n",
       "    DemocracyIndex_or  \n",
       "0             veryLow  \n",
       "1              medium  \n",
       "2             veryLow  \n",
       "3                 NaN  \n",
       "4             veryLow  \n",
       "..                ...  \n",
       "192           veryLow  \n",
       "193           veryLow  \n",
       "194           veryLow  \n",
       "195               low  \n",
       "196           veryLow  \n",
       "\n",
       "[197 rows x 4 columns]"
      ]
     },
     "execution_count": 39,
     "metadata": {},
     "output_type": "execute_result"
    }
   ],
   "source": [
    "ordCats={1:'veryLow',2:'low',3:'medium',4:'good',5:'veryGood'}\n",
    "\n",
    "turnToOrdinal= lambda x:x.cat.rename_categories(ordCats)\n",
    "\n",
    "allFree.iloc[:,5:].apply(turnToOrdinal)"
   ]
  },
  {
   "cell_type": "code",
   "execution_count": 40,
   "id": "f916d049",
   "metadata": {},
   "outputs": [],
   "source": [
    "allFree.iloc[:,5:]=allFree.iloc[:,5:].apply(turnToOrdinal)"
   ]
  },
  {
   "cell_type": "markdown",
   "id": "a42df45e",
   "metadata": {},
   "source": [
    "Let's keep this last result, but this let me show you the use of **pickle** format:"
   ]
  },
  {
   "cell_type": "code",
   "execution_count": null,
   "id": "161406d7",
   "metadata": {},
   "outputs": [],
   "source": [
    "#saving\n",
    "\n",
    "import os \n",
    "\n",
    "allFree.to_csv(os.path.join(\"DataFiles\",\"allFree.csv\"),index=False )\n",
    "allFree.to_pickle(os.path.join(\"DataFiles\",\"allFree.pkl\") )"
   ]
  },
  {
   "cell_type": "code",
   "execution_count": null,
   "id": "43d07085",
   "metadata": {},
   "outputs": [],
   "source": [
    "#reading\n",
    "\n",
    "dfPickle=pd.read_pickle(os.path.join(\"DataFiles\",\"allFree.pkl\") )  \n",
    "dfCSV=pd.read_csv(os.path.join(\"DataFiles\",\"allFree.csv\") )  "
   ]
  },
  {
   "cell_type": "markdown",
   "id": "cce1b3a2",
   "metadata": {},
   "source": [
    "Now, notice the difference when you have categorical data:"
   ]
  },
  {
   "cell_type": "code",
   "execution_count": null,
   "id": "6cefa4b8",
   "metadata": {},
   "outputs": [],
   "source": [
    "dfPickle.info()"
   ]
  },
  {
   "cell_type": "code",
   "execution_count": null,
   "id": "1d27a302",
   "metadata": {},
   "outputs": [],
   "source": [
    "dfCSV.info()"
   ]
  },
  {
   "cell_type": "code",
   "execution_count": null,
   "id": "3def84ae",
   "metadata": {},
   "outputs": [],
   "source": [
    "# the file kept the data type\n",
    "dfPickle.DemocracyIndex_or"
   ]
  },
  {
   "cell_type": "code",
   "execution_count": null,
   "id": "182bd92b",
   "metadata": {},
   "outputs": [],
   "source": [
    "# the file did not keep the data type\n",
    "dfCSV.DemocracyIndex_or"
   ]
  },
  {
   "cell_type": "code",
   "execution_count": null,
   "id": "6b17842d",
   "metadata": {},
   "outputs": [],
   "source": []
  }
 ],
 "metadata": {
  "kernelspec": {
   "display_name": "Python 3 (ipykernel)",
   "language": "python",
   "name": "python3"
  },
  "language_info": {
   "codemirror_mode": {
    "name": "ipython",
    "version": 3
   },
   "file_extension": ".py",
   "mimetype": "text/x-python",
   "name": "python",
   "nbconvert_exporter": "python",
   "pygments_lexer": "ipython3",
   "version": "3.9.13"
  }
 },
 "nbformat": 4,
 "nbformat_minor": 5
}
