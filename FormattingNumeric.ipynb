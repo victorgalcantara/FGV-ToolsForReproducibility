{
 "cells": [
  {
   "cell_type": "markdown",
   "id": "114e2eb6",
   "metadata": {},
   "source": [
    "# Data Formatting (numeric and strings)\n",
    "\n",
    "This is a process where we make sure we have the right data type.\n",
    "\n",
    "It is important to realize that while you do formatting you may need some messiness in the values may appear that again again require a cleaning of the column.\n",
    "\n",
    "\n",
    "# Numeric case\n",
    "\n",
    "Let's start by reading in some data:"
   ]
  },
  {
   "cell_type": "code",
   "execution_count": 1,
   "id": "0ce9ee1c",
   "metadata": {},
   "outputs": [
    {
     "data": {
      "text/html": [
       "\n",
       "        <iframe\n",
       "            width=\"900\"\n",
       "            height=\"500\"\n",
       "            src=\"https://en.wikipedia.org/wiki/List_of_ongoing_armed_conflicts#Deaths_by_country\"\n",
       "            frameborder=\"0\"\n",
       "            allowfullscreen\n",
       "            \n",
       "        ></iframe>\n",
       "        "
      ],
      "text/plain": [
       "<IPython.lib.display.IFrame at 0x1f066508bb0>"
      ]
     },
     "execution_count": 1,
     "metadata": {},
     "output_type": "execute_result"
    }
   ],
   "source": [
    "from IPython.display import IFrame  \n",
    "wikiLink1=\"https://en.wikipedia.org/wiki/List_of_ongoing_armed_conflicts#Deaths_by_country\"\n",
    "IFrame(wikiLink1, width=900, height=500)"
   ]
  },
  {
   "cell_type": "markdown",
   "id": "cac7382a",
   "metadata": {},
   "source": [
    "That table is showing the top 20 countries with deaths per year from 2016 to 2021. Let's bring it:"
   ]
  },
  {
   "cell_type": "code",
   "execution_count": 2,
   "id": "2be3927e",
   "metadata": {},
   "outputs": [
    {
     "data": {
      "text/plain": [
       "5"
      ]
     },
     "execution_count": 2,
     "metadata": {},
     "output_type": "execute_result"
    }
   ],
   "source": [
    "import pandas as pd\n",
    "badCountries = pd.read_html(wikiLink1,flavor='bs4',\n",
    "                        attrs = {'class': 'wikitable sortable'})\n",
    "len(badCountries)"
   ]
  },
  {
   "cell_type": "markdown",
   "id": "1e5e92c6",
   "metadata": {},
   "source": [
    "The table of interes is here:"
   ]
  },
  {
   "cell_type": "code",
   "execution_count": 3,
   "id": "3efbdfe8",
   "metadata": {
    "scrolled": true
   },
   "outputs": [
    {
     "data": {
      "text/html": [
       "<div>\n",
       "<style scoped>\n",
       "    .dataframe tbody tr th:only-of-type {\n",
       "        vertical-align: middle;\n",
       "    }\n",
       "\n",
       "    .dataframe tbody tr th {\n",
       "        vertical-align: top;\n",
       "    }\n",
       "\n",
       "    .dataframe thead tr th {\n",
       "        text-align: left;\n",
       "    }\n",
       "</style>\n",
       "<table border=\"1\" class=\"dataframe\">\n",
       "  <thead>\n",
       "    <tr>\n",
       "      <th></th>\n",
       "      <th>Rank</th>\n",
       "      <th colspan=\"2\" halign=\"left\">2016[d]</th>\n",
       "      <th colspan=\"2\" halign=\"left\">2017[e]</th>\n",
       "      <th colspan=\"2\" halign=\"left\">2018[f]</th>\n",
       "      <th colspan=\"2\" halign=\"left\">2019[g]</th>\n",
       "      <th colspan=\"2\" halign=\"left\">2020[g]</th>\n",
       "      <th colspan=\"2\" halign=\"left\">2021[g]</th>\n",
       "    </tr>\n",
       "    <tr>\n",
       "      <th></th>\n",
       "      <th>Unnamed: 0_level_1</th>\n",
       "      <th>Country</th>\n",
       "      <th>Deaths</th>\n",
       "      <th>Country</th>\n",
       "      <th>Deaths</th>\n",
       "      <th>Country</th>\n",
       "      <th>Deaths</th>\n",
       "      <th>Country</th>\n",
       "      <th>Deaths</th>\n",
       "      <th>Country</th>\n",
       "      <th>Deaths</th>\n",
       "      <th>Country</th>\n",
       "      <th>Deaths</th>\n",
       "    </tr>\n",
       "  </thead>\n",
       "  <tbody>\n",
       "    <tr>\n",
       "      <th>0</th>\n",
       "      <td>1</td>\n",
       "      <td>Syria</td>\n",
       "      <td>49742</td>\n",
       "      <td>Syria</td>\n",
       "      <td>39000</td>\n",
       "      <td>Afghanistan</td>\n",
       "      <td>35941</td>\n",
       "      <td>Afghanistan</td>\n",
       "      <td>41735</td>\n",
       "      <td>Mexico</td>\n",
       "      <td>34,512*</td>\n",
       "      <td>/ Afghanistan</td>\n",
       "      <td>42223</td>\n",
       "    </tr>\n",
       "    <tr>\n",
       "      <th>1</th>\n",
       "      <td>2</td>\n",
       "      <td>Mexico</td>\n",
       "      <td>23,953*[250]</td>\n",
       "      <td>Mexico</td>\n",
       "      <td>31,174*</td>\n",
       "      <td>Mexico</td>\n",
       "      <td>33,341*[251]</td>\n",
       "      <td>Mexico</td>\n",
       "      <td>35,588*</td>\n",
       "      <td>Afghanistan</td>\n",
       "      <td>20674</td>\n",
       "      <td>Yemen</td>\n",
       "      <td>31048</td>\n",
       "    </tr>\n",
       "    <tr>\n",
       "      <th>2</th>\n",
       "      <td>3</td>\n",
       "      <td>Iraq</td>\n",
       "      <td>23898</td>\n",
       "      <td>Afghanistan</td>\n",
       "      <td>23065</td>\n",
       "      <td>Yemen</td>\n",
       "      <td>22201</td>\n",
       "      <td>Yemen</td>\n",
       "      <td>16050</td>\n",
       "      <td>Yemen</td>\n",
       "      <td>19561</td>\n",
       "      <td>Ethiopia</td>\n",
       "      <td>22800</td>\n",
       "    </tr>\n",
       "    <tr>\n",
       "      <th>3</th>\n",
       "      <td>4</td>\n",
       "      <td>Afghanistan</td>\n",
       "      <td>23539</td>\n",
       "      <td>Iraq</td>\n",
       "      <td>13187</td>\n",
       "      <td>Syria</td>\n",
       "      <td>20130</td>\n",
       "      <td>Syria</td>\n",
       "      <td>11244</td>\n",
       "      <td>Syria</td>\n",
       "      <td>7620</td>\n",
       "      <td>Mexico</td>\n",
       "      <td>18811</td>\n",
       "    </tr>\n",
       "    <tr>\n",
       "      <th>4</th>\n",
       "      <td>5</td>\n",
       "      <td>Somalia</td>\n",
       "      <td>5575</td>\n",
       "      <td>Myanmar</td>\n",
       "      <td>6,700+</td>\n",
       "      <td>Iraq</td>\n",
       "      <td>4920</td>\n",
       "      <td>Saudi Arabia</td>\n",
       "      <td>4832</td>\n",
       "      <td>Nigeria</td>\n",
       "      <td>7172</td>\n",
       "      <td>Myanmar</td>\n",
       "      <td>11114</td>\n",
       "    </tr>\n",
       "    <tr>\n",
       "      <th>5</th>\n",
       "      <td>6</td>\n",
       "      <td>Nigeria</td>\n",
       "      <td>4684</td>\n",
       "      <td>Somalia</td>\n",
       "      <td>4969</td>\n",
       "      <td>Nigeria</td>\n",
       "      <td>4850</td>\n",
       "      <td>Somalia</td>\n",
       "      <td>2604</td>\n",
       "      <td>DR Congo</td>\n",
       "      <td>6162</td>\n",
       "      <td>Nigeria</td>\n",
       "      <td>9687</td>\n",
       "    </tr>\n",
       "    <tr>\n",
       "      <th>6</th>\n",
       "      <td>7</td>\n",
       "      <td>Sudan</td>\n",
       "      <td>3891</td>\n",
       "      <td>South Sudan</td>\n",
       "      <td>3528</td>\n",
       "      <td>Somalia</td>\n",
       "      <td>3862</td>\n",
       "      <td>Libya</td>\n",
       "      <td>2,200+</td>\n",
       "      <td>Azerbaijan/ Artsakh</td>\n",
       "      <td>6110</td>\n",
       "      <td>DR Congo</td>\n",
       "      <td>6283</td>\n",
       "    </tr>\n",
       "    <tr>\n",
       "      <th>7</th>\n",
       "      <td>8</td>\n",
       "      <td>South Sudan</td>\n",
       "      <td>3544</td>\n",
       "      <td>Nigeria</td>\n",
       "      <td>3432</td>\n",
       "      <td>Saudi Arabia</td>\n",
       "      <td>3509</td>\n",
       "      <td>Iraq</td>\n",
       "      <td>1,850+</td>\n",
       "      <td>Somalia</td>\n",
       "      <td>2950</td>\n",
       "      <td>Syria</td>\n",
       "      <td>5828</td>\n",
       "    </tr>\n",
       "    <tr>\n",
       "      <th>8</th>\n",
       "      <td>9</td>\n",
       "      <td>Libya</td>\n",
       "      <td>2865</td>\n",
       "      <td>Sudan</td>\n",
       "      <td>2450</td>\n",
       "      <td>DR Congo</td>\n",
       "      <td>1757</td>\n",
       "      <td>Mali</td>\n",
       "      <td>734+</td>\n",
       "      <td>Mali</td>\n",
       "      <td>2734</td>\n",
       "      <td>Somalia</td>\n",
       "      <td>3532</td>\n",
       "    </tr>\n",
       "    <tr>\n",
       "      <th>9</th>\n",
       "      <td>10</td>\n",
       "      <td>Turkey</td>\n",
       "      <td>2013</td>\n",
       "      <td>DR Congo</td>\n",
       "      <td>1857</td>\n",
       "      <td>Mali</td>\n",
       "      <td>1285</td>\n",
       "      <td>Egypt</td>\n",
       "      <td>529+</td>\n",
       "      <td>Iraq</td>\n",
       "      <td>2436</td>\n",
       "      <td>Iraq</td>\n",
       "      <td>2605</td>\n",
       "    </tr>\n",
       "    <tr>\n",
       "      <th>10</th>\n",
       "      <td>11</td>\n",
       "      <td>Pakistan</td>\n",
       "      <td>1,803[252][253]</td>\n",
       "      <td>Central African Republic</td>\n",
       "      <td>1757</td>\n",
       "      <td>South Sudan</td>\n",
       "      <td>1166</td>\n",
       "      <td>South Sudan</td>\n",
       "      <td>519</td>\n",
       "      <td>Burkina Faso</td>\n",
       "      <td>2268</td>\n",
       "      <td>Burkina Faso</td>\n",
       "      <td>2358</td>\n",
       "    </tr>\n",
       "    <tr>\n",
       "      <th>11</th>\n",
       "      <td>12</td>\n",
       "      <td>Egypt</td>\n",
       "      <td>1707</td>\n",
       "      <td>Libya</td>\n",
       "      <td>1564</td>\n",
       "      <td>India</td>\n",
       "      <td>988[254]</td>\n",
       "      <td>India</td>\n",
       "      <td>~403</td>\n",
       "      <td>South Sudan</td>\n",
       "      <td>2245</td>\n",
       "      <td>South Sudan</td>\n",
       "      <td>1986</td>\n",
       "    </tr>\n",
       "    <tr>\n",
       "      <th>12</th>\n",
       "      <td>13</td>\n",
       "      <td>DR Congo</td>\n",
       "      <td>1565</td>\n",
       "      <td>Egypt</td>\n",
       "      <td>1506</td>\n",
       "      <td>Cameroon</td>\n",
       "      <td>945</td>\n",
       "      <td>DR Congo</td>\n",
       "      <td>302+</td>\n",
       "      <td>Ethiopia</td>\n",
       "      <td>1813</td>\n",
       "      <td>Mali</td>\n",
       "      <td>1911</td>\n",
       "    </tr>\n",
       "    <tr>\n",
       "      <th>13</th>\n",
       "      <td>14</td>\n",
       "      <td>Yemen</td>\n",
       "      <td>1375</td>\n",
       "      <td>Ethiopia</td>\n",
       "      <td>1445</td>\n",
       "      <td>Ethiopia</td>\n",
       "      <td>886</td>\n",
       "      <td>Colombia</td>\n",
       "      <td>238</td>\n",
       "      <td>Mozambique</td>\n",
       "      <td>1696</td>\n",
       "      <td>Central African Republic</td>\n",
       "      <td>1704</td>\n",
       "    </tr>\n",
       "    <tr>\n",
       "      <th>14</th>\n",
       "      <td>15</td>\n",
       "      <td>Ethiopia</td>\n",
       "      <td>1114</td>\n",
       "      <td>Philippines</td>\n",
       "      <td>1429</td>\n",
       "      <td>Central African Republic</td>\n",
       "      <td>842</td>\n",
       "      <td>Cameroon</td>\n",
       "      <td>234</td>\n",
       "      <td>Libya</td>\n",
       "      <td>1484</td>\n",
       "      <td>Sudan</td>\n",
       "      <td>1584</td>\n",
       "    </tr>\n",
       "    <tr>\n",
       "      <th>15</th>\n",
       "      <td>16</td>\n",
       "      <td>India</td>\n",
       "      <td>905[255]</td>\n",
       "      <td>Yemen</td>\n",
       "      <td>1319</td>\n",
       "      <td>Pakistan</td>\n",
       "      <td>736[256]</td>\n",
       "      <td>Pakistan</td>\n",
       "      <td>206</td>\n",
       "      <td>Cameroon</td>\n",
       "      <td>1447</td>\n",
       "      <td>Niger</td>\n",
       "      <td>1454</td>\n",
       "    </tr>\n",
       "    <tr>\n",
       "      <th>16</th>\n",
       "      <td>17</td>\n",
       "      <td>Ukraine</td>\n",
       "      <td>902</td>\n",
       "      <td>Pakistan</td>\n",
       "      <td>1,269[252][253]</td>\n",
       "      <td>Libya</td>\n",
       "      <td>727</td>\n",
       "      <td>Thailand</td>\n",
       "      <td>163</td>\n",
       "      <td>Philippines</td>\n",
       "      <td>1316</td>\n",
       "      <td>Colombia</td>\n",
       "      <td>1399</td>\n",
       "    </tr>\n",
       "    <tr>\n",
       "      <th>17</th>\n",
       "      <td>18</td>\n",
       "      <td>Central African Republic</td>\n",
       "      <td>623</td>\n",
       "      <td>Mali</td>\n",
       "      <td>926</td>\n",
       "      <td>Colombia</td>\n",
       "      <td>709</td>\n",
       "      <td>Nigeria</td>\n",
       "      <td>152</td>\n",
       "      <td>Colombia</td>\n",
       "      <td>765</td>\n",
       "      <td>Mozambique</td>\n",
       "      <td>1194</td>\n",
       "    </tr>\n",
       "    <tr>\n",
       "      <th>18</th>\n",
       "      <td>19</td>\n",
       "      <td>Burundi</td>\n",
       "      <td>461</td>\n",
       "      <td>Turkey</td>\n",
       "      <td>802</td>\n",
       "      <td>Sudan</td>\n",
       "      <td>600</td>\n",
       "      <td>Ukraine</td>\n",
       "      <td>119</td>\n",
       "      <td>India</td>\n",
       "      <td>783</td>\n",
       "      <td>Cameroon</td>\n",
       "      <td>790</td>\n",
       "    </tr>\n",
       "    <tr>\n",
       "      <th>19</th>\n",
       "      <td>20</td>\n",
       "      <td>Algeria</td>\n",
       "      <td>128</td>\n",
       "      <td>India</td>\n",
       "      <td>700</td>\n",
       "      <td>Turkey</td>\n",
       "      <td>530</td>\n",
       "      <td>Palestine</td>\n",
       "      <td>100</td>\n",
       "      <td>Myanmar</td>\n",
       "      <td>650</td>\n",
       "      <td>Palestine</td>\n",
       "      <td>484</td>\n",
       "    </tr>\n",
       "  </tbody>\n",
       "</table>\n",
       "</div>"
      ],
      "text/plain": [
       "                 Rank                   2016[d]                   \\\n",
       "   Unnamed: 0_level_1                   Country           Deaths   \n",
       "0                   1                     Syria            49742   \n",
       "1                   2                    Mexico     23,953*[250]   \n",
       "2                   3                      Iraq            23898   \n",
       "3                   4               Afghanistan            23539   \n",
       "4                   5                   Somalia             5575   \n",
       "5                   6                   Nigeria             4684   \n",
       "6                   7                     Sudan             3891   \n",
       "7                   8               South Sudan             3544   \n",
       "8                   9                     Libya             2865   \n",
       "9                  10                    Turkey             2013   \n",
       "10                 11                  Pakistan  1,803[252][253]   \n",
       "11                 12                     Egypt             1707   \n",
       "12                 13                  DR Congo             1565   \n",
       "13                 14                     Yemen             1375   \n",
       "14                 15                  Ethiopia             1114   \n",
       "15                 16                     India         905[255]   \n",
       "16                 17                   Ukraine              902   \n",
       "17                 18  Central African Republic              623   \n",
       "18                 19                   Burundi              461   \n",
       "19                 20                   Algeria              128   \n",
       "\n",
       "                     2017[e]                                    2018[f]  \\\n",
       "                     Country           Deaths                   Country   \n",
       "0                      Syria            39000               Afghanistan   \n",
       "1                     Mexico          31,174*                    Mexico   \n",
       "2                Afghanistan            23065                     Yemen   \n",
       "3                       Iraq            13187                     Syria   \n",
       "4                    Myanmar           6,700+                      Iraq   \n",
       "5                    Somalia             4969                   Nigeria   \n",
       "6                South Sudan             3528                   Somalia   \n",
       "7                    Nigeria             3432              Saudi Arabia   \n",
       "8                      Sudan             2450                  DR Congo   \n",
       "9                   DR Congo             1857                      Mali   \n",
       "10  Central African Republic             1757               South Sudan   \n",
       "11                     Libya             1564                     India   \n",
       "12                     Egypt             1506                  Cameroon   \n",
       "13                  Ethiopia             1445                  Ethiopia   \n",
       "14               Philippines             1429  Central African Republic   \n",
       "15                     Yemen             1319                  Pakistan   \n",
       "16                  Pakistan  1,269[252][253]                     Libya   \n",
       "17                      Mali              926                  Colombia   \n",
       "18                    Turkey              802                     Sudan   \n",
       "19                     India              700                    Turkey   \n",
       "\n",
       "                       2019[g]                       2020[g]           \\\n",
       "          Deaths       Country   Deaths              Country   Deaths   \n",
       "0          35941   Afghanistan    41735               Mexico  34,512*   \n",
       "1   33,341*[251]        Mexico  35,588*          Afghanistan    20674   \n",
       "2          22201         Yemen    16050                Yemen    19561   \n",
       "3          20130         Syria    11244                Syria     7620   \n",
       "4           4920  Saudi Arabia     4832              Nigeria     7172   \n",
       "5           4850       Somalia     2604             DR Congo     6162   \n",
       "6           3862         Libya   2,200+  Azerbaijan/ Artsakh     6110   \n",
       "7           3509          Iraq   1,850+              Somalia     2950   \n",
       "8           1757          Mali     734+                 Mali     2734   \n",
       "9           1285         Egypt     529+                 Iraq     2436   \n",
       "10          1166   South Sudan      519         Burkina Faso     2268   \n",
       "11      988[254]         India     ~403          South Sudan     2245   \n",
       "12           945      DR Congo     302+             Ethiopia     1813   \n",
       "13           886      Colombia      238           Mozambique     1696   \n",
       "14           842      Cameroon      234                Libya     1484   \n",
       "15      736[256]      Pakistan      206             Cameroon     1447   \n",
       "16           727      Thailand      163          Philippines     1316   \n",
       "17           709       Nigeria      152             Colombia      765   \n",
       "18           600       Ukraine      119                India      783   \n",
       "19           530     Palestine      100              Myanmar      650   \n",
       "\n",
       "                     2021[g]         \n",
       "                     Country Deaths  \n",
       "0              / Afghanistan  42223  \n",
       "1                      Yemen  31048  \n",
       "2                   Ethiopia  22800  \n",
       "3                     Mexico  18811  \n",
       "4                    Myanmar  11114  \n",
       "5                    Nigeria   9687  \n",
       "6                   DR Congo   6283  \n",
       "7                      Syria   5828  \n",
       "8                    Somalia   3532  \n",
       "9                       Iraq   2605  \n",
       "10              Burkina Faso   2358  \n",
       "11               South Sudan   1986  \n",
       "12                      Mali   1911  \n",
       "13  Central African Republic   1704  \n",
       "14                     Sudan   1584  \n",
       "15                     Niger   1454  \n",
       "16                  Colombia   1399  \n",
       "17                Mozambique   1194  \n",
       "18                  Cameroon    790  \n",
       "19                 Palestine    484  "
      ]
     },
     "execution_count": 3,
     "metadata": {},
     "output_type": "execute_result"
    }
   ],
   "source": [
    "theTable=badCountries[4]\n",
    "theTable"
   ]
  },
  {
   "cell_type": "markdown",
   "id": "b0135fd0",
   "metadata": {},
   "source": [
    "The first thing to notice is the column names, which is a multi index:"
   ]
  },
  {
   "cell_type": "code",
   "execution_count": null,
   "id": "9ba55c7b",
   "metadata": {},
   "outputs": [],
   "source": [
    "theTable.columns"
   ]
  },
  {
   "cell_type": "markdown",
   "id": "4c318a9c",
   "metadata": {},
   "source": [
    "What about this new names?"
   ]
  },
  {
   "cell_type": "code",
   "execution_count": null,
   "id": "33fe0057",
   "metadata": {},
   "outputs": [],
   "source": [
    "# concatenate elements\n",
    "\n",
    "newNames=[\"_\".join((b,a)) for a,b in theTable.columns]\n",
    "newNames"
   ]
  },
  {
   "cell_type": "code",
   "execution_count": null,
   "id": "79ae7638",
   "metadata": {},
   "outputs": [],
   "source": [
    "# looks better?\n",
    "betterNames=[n.split('[')[0] for n in newNames]\n",
    "betterNames"
   ]
  },
  {
   "cell_type": "code",
   "execution_count": null,
   "id": "1a1d6409",
   "metadata": {},
   "outputs": [],
   "source": [
    "#Then:\n",
    "theTable.columns=betterNames\n",
    "theTable"
   ]
  },
  {
   "cell_type": "markdown",
   "id": "0e61294f",
   "metadata": {},
   "source": [
    "We do not have multi index anymore. Let's get rid of the first column too: "
   ]
  },
  {
   "cell_type": "code",
   "execution_count": null,
   "id": "4c5320eb",
   "metadata": {},
   "outputs": [],
   "source": [
    "theTable.drop(columns=[theTable.columns[0]], inplace=True)\n",
    "theTable.info()"
   ]
  },
  {
   "cell_type": "markdown",
   "id": "cbe2ec81",
   "metadata": {},
   "source": [
    "Notice that the last column *Deaths_2021* has been recognised as a number; while the others have not."
   ]
  },
  {
   "cell_type": "markdown",
   "id": "22b7919b",
   "metadata": {},
   "source": [
    "Let's explore attention to 2016:"
   ]
  },
  {
   "cell_type": "code",
   "execution_count": null,
   "id": "4869d782",
   "metadata": {},
   "outputs": [],
   "source": [
    "theTable.Deaths_2016[theTable.Deaths_2016.str.contains(r'\\D')]"
   ]
  },
  {
   "cell_type": "markdown",
   "id": "40f2dd4a",
   "metadata": {},
   "source": [
    "Let's clean:"
   ]
  },
  {
   "cell_type": "code",
   "execution_count": null,
   "id": "db0a4367",
   "metadata": {},
   "outputs": [],
   "source": [
    "byeChars=r'\\[\\d+\\]|\\*|,'\n",
    "theTable.Deaths_2016=theTable.Deaths_2016.str.replace(pat=byeChars,\n",
    "                                                      repl=\"\",\n",
    "                                                      regex=True)\n",
    "theTable"
   ]
  },
  {
   "cell_type": "markdown",
   "id": "750c69e3",
   "metadata": {},
   "source": [
    "We have a clean version, but:"
   ]
  },
  {
   "cell_type": "code",
   "execution_count": null,
   "id": "3211ddea",
   "metadata": {},
   "outputs": [],
   "source": [
    "theTable.info()"
   ]
  },
  {
   "cell_type": "markdown",
   "id": "8665f96b",
   "metadata": {},
   "source": [
    "We need a simple step:"
   ]
  },
  {
   "cell_type": "code",
   "execution_count": null,
   "id": "426a568b",
   "metadata": {},
   "outputs": [],
   "source": [
    "theTable.Deaths_2016=pd.to_numeric(theTable.Deaths_2016)\n",
    "theTable.info()"
   ]
  },
  {
   "cell_type": "markdown",
   "id": "93569216",
   "metadata": {},
   "source": [
    "Statistics can be obtained when data is in the rigth type:"
   ]
  },
  {
   "cell_type": "code",
   "execution_count": null,
   "id": "02f6e76a",
   "metadata": {},
   "outputs": [],
   "source": [
    "theTable.describe()"
   ]
  },
  {
   "cell_type": "markdown",
   "id": "0fecc4ff",
   "metadata": {},
   "source": [
    "As you see, the other columns were 'rejected'. Of course, you can force the fucntion:"
   ]
  },
  {
   "cell_type": "code",
   "execution_count": null,
   "id": "b3b36c54",
   "metadata": {},
   "outputs": [],
   "source": [
    "theTable.describe(include='all')"
   ]
  },
  {
   "cell_type": "markdown",
   "id": "95cbee8d",
   "metadata": {},
   "source": [
    "The function **to_numeric** worked because we had a clean column, if that is not the case you will see this:"
   ]
  },
  {
   "cell_type": "code",
   "execution_count": null,
   "id": "30a6aebf",
   "metadata": {},
   "outputs": [],
   "source": [
    "#pd.to_numeric(theTable.Deaths_2017)"
   ]
  },
  {
   "cell_type": "markdown",
   "id": "8409d973",
   "metadata": {},
   "source": [
    "Python can coerce values in simple situations:"
   ]
  },
  {
   "cell_type": "code",
   "execution_count": null,
   "id": "658901e5",
   "metadata": {},
   "outputs": [],
   "source": [
    "float('20.1')"
   ]
  },
  {
   "cell_type": "code",
   "execution_count": null,
   "id": "46b06972",
   "metadata": {},
   "outputs": [],
   "source": [
    "# but not this one\n",
    "\n",
    "#float('20.1*')"
   ]
  },
  {
   "cell_type": "markdown",
   "id": "bb4588fb",
   "metadata": {},
   "source": [
    "Let's use a loop to detect issues in *Deaths_2017*:"
   ]
  },
  {
   "cell_type": "code",
   "execution_count": null,
   "id": "405d78c8",
   "metadata": {},
   "outputs": [],
   "source": [
    "for value in theTable.Deaths_2017:\n",
    "    try:\n",
    "        float(value)\n",
    "    except:\n",
    "        print(value)"
   ]
  },
  {
   "cell_type": "code",
   "execution_count": null,
   "id": "a328d480",
   "metadata": {},
   "outputs": [],
   "source": [
    "# or \n",
    "theTable.Deaths_2017[theTable.Deaths_2017.str.contains('\\D')]"
   ]
  },
  {
   "cell_type": "markdown",
   "id": "1fb5bcfc",
   "metadata": {},
   "source": [
    "Notice that Pandas uses a **float64** dtype by default after the conversion using **to_numeric**. Consider this difference in memory:"
   ]
  },
  {
   "cell_type": "code",
   "execution_count": null,
   "id": "a5cedb6d",
   "metadata": {},
   "outputs": [],
   "source": [
    "theTable.loc[:,['Deaths_2016','Deaths_2021']].astype('Int32').info()"
   ]
  },
  {
   "cell_type": "code",
   "execution_count": null,
   "id": "25911cf5",
   "metadata": {},
   "outputs": [],
   "source": [
    "theTable.loc[:,['Deaths_2016','Deaths_2021']].astype('int32').info()"
   ]
  },
  {
   "cell_type": "code",
   "execution_count": null,
   "id": "7ae8fc92",
   "metadata": {},
   "outputs": [],
   "source": [
    "theTable.loc[:,['Deaths_2016','Deaths_2021']].info()"
   ]
  },
  {
   "cell_type": "markdown",
   "id": "06d3f29a",
   "metadata": {},
   "source": [
    "### Exercise\n",
    "\n",
    "Clean the remaining columns that are suppossed to have numeric values."
   ]
  }
 ],
 "metadata": {
  "kernelspec": {
   "display_name": "Python 3 (ipykernel)",
   "language": "python",
   "name": "python3"
  },
  "language_info": {
   "codemirror_mode": {
    "name": "ipython",
    "version": 3
   },
   "file_extension": ".py",
   "mimetype": "text/x-python",
   "name": "python",
   "nbconvert_exporter": "python",
   "pygments_lexer": "ipython3",
   "version": "3.9.12"
  }
 },
 "nbformat": 4,
 "nbformat_minor": 5
}
