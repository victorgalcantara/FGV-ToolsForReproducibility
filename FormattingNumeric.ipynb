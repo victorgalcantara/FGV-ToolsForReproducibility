{
 "cells": [
  {
   "cell_type": "markdown",
   "id": "114e2eb6",
   "metadata": {},
   "source": [
    "# Data Formatting (numeric and strings)\n",
    "\n",
    "This is a process where we make sure we have the right data type.\n",
    "\n",
    "It is important to realize that while you do formatting you may need some messiness in the values may appear that again again require a cleaning of the column.\n",
    "\n",
    "\n",
    "# Numeric case\n",
    "\n",
    "Let's start by reading in some data:"
   ]
  },
  {
   "cell_type": "code",
   "execution_count": null,
   "id": "0ce9ee1c",
   "metadata": {},
   "outputs": [],
   "source": [
    "from IPython.display import IFrame  \n",
    "wikiLink1=\"https://en.wikipedia.org/wiki/List_of_ongoing_armed_conflicts#Deaths_by_country\"\n",
    "IFrame(wikiLink1, width=900, height=500)"
   ]
  },
  {
   "cell_type": "markdown",
   "id": "cac7382a",
   "metadata": {},
   "source": [
    "That table is showing the top 20 countries with deaths per year from 2016 to 2021. Let's bring it:"
   ]
  },
  {
   "cell_type": "code",
   "execution_count": null,
   "id": "2be3927e",
   "metadata": {},
   "outputs": [],
   "source": [
    "import pandas as pd\n",
    "badCountries = pd.read_html(wikiLink1,flavor='bs4',\n",
    "                        attrs = {'class': 'wikitable sortable'})\n",
    "len(badCountries)"
   ]
  },
  {
   "cell_type": "markdown",
   "id": "1e5e92c6",
   "metadata": {},
   "source": [
    "The table of interes is here:"
   ]
  },
  {
   "cell_type": "code",
   "execution_count": null,
   "id": "3efbdfe8",
   "metadata": {
    "scrolled": true
   },
   "outputs": [],
   "source": [
    "theTable=badCountries[4]\n",
    "theTable"
   ]
  },
  {
   "cell_type": "markdown",
   "id": "b0135fd0",
   "metadata": {},
   "source": [
    "The first thing to notice is the column names, which is a multi index:"
   ]
  },
  {
   "cell_type": "code",
   "execution_count": null,
   "id": "9ba55c7b",
   "metadata": {},
   "outputs": [],
   "source": [
    "theTable.columns"
   ]
  },
  {
   "cell_type": "markdown",
   "id": "4c318a9c",
   "metadata": {},
   "source": [
    "What about this new names?"
   ]
  },
  {
   "cell_type": "code",
   "execution_count": null,
   "id": "33fe0057",
   "metadata": {},
   "outputs": [],
   "source": [
    "# concatenate elements\n",
    "\n",
    "newNames=[\"_\".join((b,a)) for a,b in theTable.columns]\n",
    "newNames"
   ]
  },
  {
   "cell_type": "code",
   "execution_count": null,
   "id": "79ae7638",
   "metadata": {},
   "outputs": [],
   "source": [
    "# looks better?\n",
    "betterNames=[n.split('[')[0] for n in newNames]\n",
    "betterNames"
   ]
  },
  {
   "cell_type": "code",
   "execution_count": null,
   "id": "1a1d6409",
   "metadata": {},
   "outputs": [],
   "source": [
    "#Then:\n",
    "theTable.columns=betterNames\n",
    "theTable"
   ]
  },
  {
   "cell_type": "markdown",
   "id": "0e61294f",
   "metadata": {},
   "source": [
    "We do not have multi index anymore. Let's get rid of the first column too: "
   ]
  },
  {
   "cell_type": "code",
   "execution_count": null,
   "id": "4c5320eb",
   "metadata": {},
   "outputs": [],
   "source": [
    "theTable.drop(columns=[theTable.columns[0]], inplace=True)\n",
    "theTable.info()"
   ]
  },
  {
   "cell_type": "markdown",
   "id": "cbe2ec81",
   "metadata": {},
   "source": [
    "Notice that the last column *Deaths_2021* has been recognised as a number; while the others have not."
   ]
  },
  {
   "cell_type": "markdown",
   "id": "22b7919b",
   "metadata": {},
   "source": [
    "Let's explore attention to 2016:"
   ]
  },
  {
   "cell_type": "code",
   "execution_count": null,
   "id": "4869d782",
   "metadata": {},
   "outputs": [],
   "source": [
    "theTable.Deaths_2016[theTable.Deaths_2016.str.contains(r'\\D')]"
   ]
  },
  {
   "cell_type": "markdown",
   "id": "40f2dd4a",
   "metadata": {},
   "source": [
    "Let's clean:"
   ]
  },
  {
   "cell_type": "code",
   "execution_count": null,
   "id": "db0a4367",
   "metadata": {},
   "outputs": [],
   "source": [
    "byeChars=r'\\[\\d+\\]|\\*|,'\n",
    "theTable.Deaths_2016=theTable.Deaths_2016.str.replace(pat=byeChars,\n",
    "                                                      repl=\"\",\n",
    "                                                      regex=True)\n",
    "theTable"
   ]
  },
  {
   "cell_type": "markdown",
   "id": "750c69e3",
   "metadata": {},
   "source": [
    "We have a clean version, but:"
   ]
  },
  {
   "cell_type": "code",
   "execution_count": null,
   "id": "3211ddea",
   "metadata": {},
   "outputs": [],
   "source": [
    "theTable.info()"
   ]
  },
  {
   "cell_type": "markdown",
   "id": "8665f96b",
   "metadata": {},
   "source": [
    "We need a simple step:"
   ]
  },
  {
   "cell_type": "code",
   "execution_count": null,
   "id": "426a568b",
   "metadata": {},
   "outputs": [],
   "source": [
    "theTable.Deaths_2016=pd.to_numeric(theTable.Deaths_2016)\n",
    "theTable.info()"
   ]
  },
  {
   "cell_type": "markdown",
   "id": "93569216",
   "metadata": {},
   "source": [
    "Statistics can be obtained when data is in the rigth type:"
   ]
  },
  {
   "cell_type": "code",
   "execution_count": null,
   "id": "02f6e76a",
   "metadata": {},
   "outputs": [],
   "source": [
    "theTable.describe()"
   ]
  },
  {
   "cell_type": "markdown",
   "id": "0fecc4ff",
   "metadata": {},
   "source": [
    "As you see, the other columns were 'rejected'. Of course, you can force the fucntion:"
   ]
  },
  {
   "cell_type": "code",
   "execution_count": null,
   "id": "b3b36c54",
   "metadata": {},
   "outputs": [],
   "source": [
    "theTable.describe(include='all')"
   ]
  },
  {
   "cell_type": "markdown",
   "id": "95cbee8d",
   "metadata": {},
   "source": [
    "The function **to_numeric** worked because we had a clean column, if that is not the case you will see this:"
   ]
  },
  {
   "cell_type": "code",
   "execution_count": null,
   "id": "30a6aebf",
   "metadata": {},
   "outputs": [],
   "source": [
    "#pd.to_numeric(theTable.Deaths_2017)"
   ]
  },
  {
   "cell_type": "markdown",
   "id": "8409d973",
   "metadata": {},
   "source": [
    "Python can coerce values in simple situations:"
   ]
  },
  {
   "cell_type": "code",
   "execution_count": null,
   "id": "658901e5",
   "metadata": {},
   "outputs": [],
   "source": [
    "float('20.1')"
   ]
  },
  {
   "cell_type": "code",
   "execution_count": null,
   "id": "46b06972",
   "metadata": {},
   "outputs": [],
   "source": [
    "# but not this one\n",
    "\n",
    "#float('20.1*')"
   ]
  },
  {
   "cell_type": "markdown",
   "id": "bb4588fb",
   "metadata": {},
   "source": [
    "Let's use a loop to detect issues in *Deaths_2017*:"
   ]
  },
  {
   "cell_type": "code",
   "execution_count": null,
   "id": "405d78c8",
   "metadata": {},
   "outputs": [],
   "source": [
    "for value in theTable.Deaths_2017:\n",
    "    try:\n",
    "        float(value)\n",
    "    except:\n",
    "        print(value)"
   ]
  },
  {
   "cell_type": "code",
   "execution_count": null,
   "id": "a328d480",
   "metadata": {},
   "outputs": [],
   "source": [
    "# or \n",
    "theTable.Deaths_2017[theTable.Deaths_2017.str.contains('\\D')]"
   ]
  },
  {
   "cell_type": "markdown",
   "id": "1fb5bcfc",
   "metadata": {},
   "source": [
    "Notice that Pandas uses a **float64** dtype by default after the conversion using **to_numeric**. Consider this difference in memory:"
   ]
  },
  {
   "cell_type": "code",
   "execution_count": null,
   "id": "a5cedb6d",
   "metadata": {},
   "outputs": [],
   "source": [
    "theTable.loc[:,['Deaths_2016','Deaths_2021']].astype('Int32').info()"
   ]
  },
  {
   "cell_type": "code",
   "execution_count": null,
   "id": "25911cf5",
   "metadata": {},
   "outputs": [],
   "source": [
    "theTable.loc[:,['Deaths_2016','Deaths_2021']].astype('int32').info()"
   ]
  },
  {
   "cell_type": "code",
   "execution_count": null,
   "id": "7ae8fc92",
   "metadata": {},
   "outputs": [],
   "source": [
    "theTable.loc[:,['Deaths_2016','Deaths_2021']].info()"
   ]
  },
  {
   "cell_type": "markdown",
   "id": "06d3f29a",
   "metadata": {},
   "source": [
    "### Exercise\n",
    "\n",
    "Clean the remaining columns that are suppossed to have numeric values."
   ]
  }
 ],
 "metadata": {
  "kernelspec": {
   "display_name": "Python 3 (ipykernel)",
   "language": "python",
   "name": "python3"
  },
  "language_info": {
   "codemirror_mode": {
    "name": "ipython",
    "version": 3
   },
   "file_extension": ".py",
   "mimetype": "text/x-python",
   "name": "python",
   "nbconvert_exporter": "python",
   "pygments_lexer": "ipython3",
   "version": "3.9.13"
  }
 },
 "nbformat": 4,
 "nbformat_minor": 5
}
