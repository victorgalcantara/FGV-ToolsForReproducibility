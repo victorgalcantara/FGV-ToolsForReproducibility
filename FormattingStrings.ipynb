{
 "cells": [
  {
   "cell_type": "markdown",
   "id": "114e2eb6",
   "metadata": {},
   "source": [
    "# Data Formatting (strings)\n",
    "\n",
    "This is a process where we make sure we have the right data type.\n",
    "\n",
    "It is important to realize that while you do formatting you may need some messiness in the values may appear that again again require a cleaning of the column.\n"
   ]
  },
  {
   "cell_type": "markdown",
   "id": "48c61d43",
   "metadata": {},
   "source": [
    "# String case"
   ]
  },
  {
   "cell_type": "code",
   "execution_count": null,
   "id": "bc3b2c61",
   "metadata": {},
   "outputs": [],
   "source": [
    "from IPython.display import IFrame  \n",
    "wikiLink2=\"https://en.wikipedia.org/wiki/List_of_active_rebel_groups\" \n",
    "IFrame(wikiLink2, width=900, height=500)"
   ]
  },
  {
   "cell_type": "code",
   "execution_count": null,
   "id": "9e038365",
   "metadata": {},
   "outputs": [],
   "source": [
    "import pandas as pd\n",
    "\n",
    "rebels = pd.read_html(wikiLink2,flavor='bs4',\n",
    "                        attrs = {'class': 'wikitable sortable'})\n",
    "len(rebels)"
   ]
  },
  {
   "cell_type": "markdown",
   "id": "b793de51",
   "metadata": {},
   "source": [
    "This is our table:"
   ]
  },
  {
   "cell_type": "code",
   "execution_count": null,
   "id": "87ed6d40",
   "metadata": {},
   "outputs": [],
   "source": [
    "theRebels=rebels[0].copy()\n",
    "theRebels"
   ]
  },
  {
   "cell_type": "code",
   "execution_count": null,
   "id": "f9223f1f",
   "metadata": {},
   "outputs": [],
   "source": [
    "# check names in columns\n",
    "\n",
    "theRebels.columns"
   ]
  },
  {
   "cell_type": "code",
   "execution_count": null,
   "id": "728201b9",
   "metadata": {},
   "outputs": [],
   "source": [
    "# using rename\n",
    "newNames={theRebels.columns[0]:'State',\n",
    "          theRebels.columns[2]:'Affiliates'}\n",
    "\n",
    "theRebels.rename(columns=newNames,inplace=True)\n",
    "theRebels.head(3)"
   ]
  },
  {
   "cell_type": "code",
   "execution_count": null,
   "id": "cf585437",
   "metadata": {},
   "outputs": [],
   "source": [
    "# simple names\n",
    "theRebels.columns"
   ]
  },
  {
   "cell_type": "code",
   "execution_count": null,
   "id": "25bbf344",
   "metadata": {},
   "outputs": [],
   "source": [
    "simplerNames=theRebels.columns.str.replace(r'\\s',\"\",regex=True)\n",
    "theRebels.columns=simplerNames\n",
    "theRebels.head(3)"
   ]
  },
  {
   "cell_type": "markdown",
   "id": "4dc82e8f",
   "metadata": {},
   "source": [
    "Let's drop *References*:"
   ]
  },
  {
   "cell_type": "code",
   "execution_count": null,
   "id": "61300fe9",
   "metadata": {},
   "outputs": [],
   "source": [
    "theRebels.drop(columns=['References'],inplace=True)"
   ]
  },
  {
   "cell_type": "markdown",
   "id": "506dae36",
   "metadata": {},
   "source": [
    "Let's check the first column. This is nice!"
   ]
  },
  {
   "cell_type": "code",
   "execution_count": null,
   "id": "7803bd1e",
   "metadata": {},
   "outputs": [],
   "source": [
    "theRebels.State"
   ]
  },
  {
   "cell_type": "markdown",
   "id": "96fed6fd",
   "metadata": {},
   "source": [
    "That gave me an idea:"
   ]
  },
  {
   "cell_type": "code",
   "execution_count": null,
   "id": "40c1a72e",
   "metadata": {},
   "outputs": [],
   "source": [
    "theRebels=theRebels.assign(Multinational=\\\n",
    "                          theRebels.State.str.contains('Multinational:',\n",
    "                                                       case=False,\n",
    "                                                       regex=False))\n",
    "\n",
    "theRebels.State=theRebels.State.str.replace(pat='Multinational:',\n",
    "                                            repl=\"\",\n",
    "                                            case=False,\n",
    "                                            regex=False)\n",
    "theRebels.head(3)"
   ]
  },
  {
   "cell_type": "markdown",
   "id": "7bbc8dd4",
   "metadata": {},
   "source": [
    "Let's check state again, this time as a list. This is nicer:"
   ]
  },
  {
   "cell_type": "code",
   "execution_count": null,
   "id": "d7eaca16",
   "metadata": {},
   "outputs": [],
   "source": [
    "theRebels.State.to_list()"
   ]
  },
  {
   "cell_type": "code",
   "execution_count": null,
   "id": "7269f1c0",
   "metadata": {},
   "outputs": [],
   "source": [
    "theRebels.State=theRebels.State.str.replace('\\xa0',\",\",regex=False)\n",
    "theRebels.State"
   ]
  },
  {
   "cell_type": "code",
   "execution_count": null,
   "id": "7fdcffb2",
   "metadata": {},
   "outputs": [],
   "source": [
    "theRebels.State=theRebels.State.str.replace('^\\,',\"\",regex=True)\n",
    "theRebels.State"
   ]
  },
  {
   "cell_type": "markdown",
   "id": "18837c55",
   "metadata": {},
   "source": [
    "The capitalization is an important decision, for that you can use:\n",
    "\n",
    "* str.lower(): all to lowercase.\n",
    "\n",
    "* str.upper(): ALL TO UPPERCASE.\n",
    "\n",
    "* str.title(): First Character Of Each Word To Uppercase. \n",
    "\n",
    "* str.capitalize(): First character to uppercase and remaining to lowercase.\n",
    "\n",
    "**You can only apply this if the cells are strings.**\n",
    "\n",
    "For example:"
   ]
  },
  {
   "cell_type": "code",
   "execution_count": null,
   "id": "3c9f6b40",
   "metadata": {},
   "outputs": [],
   "source": [
    "theRebels['state']=theRebels.State.str.lower()\n",
    "theRebels['STATE']=theRebels.State.astype('string').str.upper()#just in case!"
   ]
  },
  {
   "cell_type": "code",
   "execution_count": null,
   "id": "37cae2c6",
   "metadata": {},
   "outputs": [],
   "source": [
    "theRebels[['State','state','STATE']].head()"
   ]
  },
  {
   "cell_type": "markdown",
   "id": "fdf1150a",
   "metadata": {},
   "source": [
    "We could also have a column where there are no spaces between the country name:"
   ]
  },
  {
   "cell_type": "code",
   "execution_count": null,
   "id": "b76c7ae6",
   "metadata": {},
   "outputs": [],
   "source": [
    "theRebels['StateName']=theRebels.State.str.title().str.replace('\\s',\"\",regex=True)"
   ]
  },
  {
   "cell_type": "markdown",
   "id": "f1c39408",
   "metadata": {},
   "source": [
    "Let's save what we have:"
   ]
  },
  {
   "cell_type": "code",
   "execution_count": null,
   "id": "318040e8",
   "metadata": {},
   "outputs": [],
   "source": [
    "import os\n",
    "\n",
    "where=os.path.join('DataFiles','rebelData.csv')\n",
    "theRebels.to_csv(where,index=False)"
   ]
  },
  {
   "cell_type": "markdown",
   "id": "f5afcb28",
   "metadata": {},
   "source": [
    "### Exercise\n",
    "\n",
    "Creat a column **statesCount**, that for each row, tells you the amount of states."
   ]
  },
  {
   "cell_type": "code",
   "execution_count": null,
   "id": "0ef088bb",
   "metadata": {},
   "outputs": [],
   "source": []
  }
 ],
 "metadata": {
  "kernelspec": {
   "display_name": "Python 3 (ipykernel)",
   "language": "python",
   "name": "python3"
  },
  "language_info": {
   "codemirror_mode": {
    "name": "ipython",
    "version": 3
   },
   "file_extension": ".py",
   "mimetype": "text/x-python",
   "name": "python",
   "nbconvert_exporter": "python",
   "pygments_lexer": "ipython3",
   "version": "3.9.13"
  }
 },
 "nbformat": 4,
 "nbformat_minor": 5
}
