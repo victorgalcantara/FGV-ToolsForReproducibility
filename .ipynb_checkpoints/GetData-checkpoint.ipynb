{
 "cells": [
  {
   "cell_type": "markdown",
   "metadata": {
    "id": "vDPPxz0-hFad"
   },
   "source": [
    "# Getting data into Python"
   ]
  },
  {
   "cell_type": "markdown",
   "metadata": {
    "id": "Gp9Qyu8lhAC9"
   },
   "source": [
    "The data in this example will come from this location:\n",
    "\n",
    "* [https://en.wikipedia.org/wiki/List_of_wars_by_death_toll](https://en.wikipedia.org/wiki/List_of_wars_by_death_toll)"
   ]
  },
  {
   "cell_type": "code",
   "execution_count": null,
   "metadata": {
    "id": "otvmQuXthm9N"
   },
   "outputs": [],
   "source": [
    "# here we save the comple link (in quotations):\n",
    "link='https://en.wikipedia.org/wiki/List_of_wars_by_death_toll'"
   ]
  },
  {
   "cell_type": "markdown",
   "metadata": {
    "id": "ncdqePWThxwF"
   },
   "source": [
    "The operation to get dat from the web requires more than the basic Python functions. Then, you need to install some extra packages:\n",
    "* pandas\n",
    "* html5lib\n",
    "* beautifulsoup4\n",
    "* lxml\n",
    "* requests. "
   ]
  },
  {
   "cell_type": "code",
   "execution_count": null,
   "metadata": {
    "id": "bm1Ly4Tfj9lL"
   },
   "outputs": [],
   "source": [
    "# this code can help you know if you already have the packages listed above:\n",
    "\n",
    "!pip show pandas html5lib beautifulsoup4 lxml requests "
   ]
  },
  {
   "cell_type": "code",
   "execution_count": null,
   "metadata": {
    "id": "RI3VZnrpDlJ3"
   },
   "outputs": [],
   "source": [
    "!python --version"
   ]
  },
  {
   "cell_type": "markdown",
   "metadata": {
    "id": "LbBO6_yBmT1U"
   },
   "source": [
    "Any package not available can be installed using **pip install _package-name_** . Let's bring the table easily with pandas' *read_html*:"
   ]
  },
  {
   "cell_type": "code",
   "execution_count": null,
   "metadata": {
    "id": "D1KA_ElJlykr"
   },
   "outputs": [],
   "source": [
    "import pandas as pd\n",
    "\n",
    "\n",
    "wars=pd.read_html(io=link, # reading the info from link\n",
    "                  flavor='bs4', # the parsing engine # beauty soufl\n",
    "                  attrs = {'class': 'sortable wikitable'})# how did I know this?"
   ]
  },
  {
   "cell_type": "markdown",
   "metadata": {
    "id": "QZgL_g_NnzXy"
   },
   "source": [
    "The object **wars** is not a table, but a list (of sortable wiki tables):"
   ]
  },
  {
   "cell_type": "code",
   "execution_count": null,
   "metadata": {
    "id": "w8C0hLOpnwkR"
   },
   "outputs": [],
   "source": [
    "# type of object\n",
    "type(wars)"
   ]
  },
  {
   "cell_type": "markdown",
   "metadata": {
    "id": "j2bsR5gfoBcu"
   },
   "source": [
    "...and we have this many:"
   ]
  },
  {
   "cell_type": "code",
   "execution_count": null,
   "metadata": {
    "id": "PbiDbqr2n-eG"
   },
   "outputs": [],
   "source": [
    "len(wars)"
   ]
  },
  {
   "cell_type": "markdown",
   "metadata": {
    "id": "QcopPZ0HW8Oi"
   },
   "source": [
    "You can access each element of the list using an index inside '[ ]'. This is what you have in the first element:"
   ]
  },
  {
   "cell_type": "code",
   "execution_count": null,
   "metadata": {
    "id": "33r3HIGlXMGn"
   },
   "outputs": [],
   "source": [
    "type(wars[0]) #the first starts in zero in Python."
   ]
  },
  {
   "cell_type": "markdown",
   "metadata": {
    "id": "Mh_yDazUXdbt"
   },
   "source": [
    "The first element of _wars_ is a pandas dataframe. Let's check some info:"
   ]
  },
  {
   "cell_type": "code",
   "execution_count": null,
   "metadata": {
    "id": "dXcslXd_YcGj"
   },
   "outputs": [],
   "source": [
    "wars[0].shape # amount of rows and columns"
   ]
  },
  {
   "cell_type": "code",
   "execution_count": null,
   "metadata": {
    "id": "7jBJupvxYkGF"
   },
   "outputs": [],
   "source": [
    "wars[0].columns # column names"
   ]
  },
  {
   "cell_type": "code",
   "execution_count": null,
   "metadata": {
    "id": "ItgvCRPvYn9r"
   },
   "outputs": [],
   "source": [
    "wars[0].info() # column data types"
   ]
  },
  {
   "cell_type": "code",
   "execution_count": null,
   "metadata": {
    "id": "zWZhUhFnYtf9"
   },
   "outputs": [],
   "source": [
    "wars[0].head() # or tail()"
   ]
  },
  {
   "cell_type": "markdown",
   "metadata": {
    "id": "j0I2PCpBoc6G"
   },
   "source": [
    "Request the following information:\n",
    "* The amount of rows in the other data frames in the object _wars_.\n",
    "* Confirm all those data frames share the same column names."
   ]
  },
  {
   "cell_type": "markdown",
   "metadata": {
    "id": "WHhYHCPEo_CQ"
   },
   "source": [
    "The same web page from Wikipedia has more information on wars that is more difficult to scrap. I leave the example [HERE](https://colab.research.google.com/drive/1fMva9mhuUiLOlxQ6w7irzz2QVeKTzOXf?usp=sharing) in case you want to know more."
   ]
  },
  {
   "cell_type": "code",
   "execution_count": null,
   "metadata": {
    "id": "Ku6s53l3o1WX"
   },
   "outputs": [],
   "source": []
  }
 ],
 "metadata": {
  "colab": {
   "collapsed_sections": [],
   "name": "Cópia de GetData.ipynb",
   "provenance": []
  },
  "kernelspec": {
   "display_name": "Python 3 (ipykernel)",
   "language": "python",
   "name": "python3"
  },
  "language_info": {
   "codemirror_mode": {
    "name": "ipython",
    "version": 3
   },
   "file_extension": ".py",
   "mimetype": "text/x-python",
   "name": "python",
   "nbconvert_exporter": "python",
   "pygments_lexer": "ipython3",
   "version": "3.9.12"
  }
 },
 "nbformat": 4,
 "nbformat_minor": 1
}
